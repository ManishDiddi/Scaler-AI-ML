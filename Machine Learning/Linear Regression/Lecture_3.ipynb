{
  "cells": [
    {
      "cell_type": "markdown",
      "metadata": {
        "id": "tqLB7CKM5fOF"
      },
      "source": [
        "## Content"
      ]
    },
    {
      "cell_type": "markdown",
      "metadata": {
        "id": "FzuQZEr_XXtN"
      },
      "source": [
        "- **Recap**\n",
        "\n",
        "- **Importance of train test split**\n",
        "\n",
        "- **Feature importance and interpretation**\n",
        "\n",
        "- **Importance of standardization**\n",
        "\n",
        "- **Min max scaler**\n",
        "\n",
        "- **Case study: Predict mileage of car**\n",
        "    - Loading data\n",
        "    - One Hot encoding\n",
        "    - Create dummy variables\n",
        "    - Handling missing values\n",
        "    - Data splitting\n",
        "    - Fit linear model\n",
        "\n",
        "- **Impact of outliers**\n",
        "\n",
        "- **Assumptions in Linear Regression**\n",
        "    - Assumption of Linearity\n",
        "\n",
        "    - Features are not multi-collinear\n",
        "        - VIF\n",
        "\n",
        "    - Errors are normally distributed\n",
        "\n",
        "    - Error terms must be independent\n",
        "\n",
        "    - Homoscedasticity: Error has constant variance\n",
        "\n",
        "- Polynomial regression\n",
        "- Occam's Razor\n",
        "- Bias variance Tradeoff\n",
        "- Regularization\n"
      ]
    },
    {
      "cell_type": "markdown",
      "metadata": {
        "id": "EM0mLyCX2YQh"
      },
      "source": [
        "## What did we learn in last lecture ?"
      ]
    },
    {
      "cell_type": "markdown",
      "metadata": {
        "id": "lrv4zKm_4L81"
      },
      "source": [
        "- We looked at how we define the functions\n",
        "- Understood the z score\n",
        "- Learnt the importance of standardization (Min - max Scaler)\n",
        "- We also digged into code and understood how to create LinearRegression object.\n",
        "- We understood what does `fit` function do.\n",
        "- We also understood about errors\n",
        "- At last, we also discussed why $R^2$ is important.\n"
      ]
    },
    {
      "cell_type": "markdown",
      "metadata": {
        "id": "mYbMqI5oGpi-"
      },
      "source": [
        "## When working on ML model, what all things to keep in mind ?"
      ]
    },
    {
      "cell_type": "markdown",
      "metadata": {
        "id": "OhLBwyUmGuX9"
      },
      "source": [
        "Let's say we have a dataset (say 10 datapoints)"
      ]
    },
    {
      "cell_type": "markdown",
      "metadata": {
        "id": "ZljnvZzIGwul"
      },
      "source": [
        "\n",
        "\n",
        "<!-- <center><img src=\"https://drive.google.com/uc?id=1EYn4tKAihZINuWjD0GttzUQ2EoL4cvbV\" width=\"800\" height=\"400\"> -->\n",
        "<center><img src=\"./image.png\" width=\"800\" height=\"400\">"
      ]
    },
    {
      "cell_type": "markdown",
      "metadata": {
        "id": "kATe2pv2HRda"
      },
      "source": [
        "### Importance of train test split\n",
        "\n",
        "#### Recall that we talked about train and test data?\n",
        "\n",
        "When we build a model, we don't take whole data but a portion of data and term it as training set.\n",
        "\n",
        "We use the remaining set as test data.\n",
        "\n",
        "For building model,\n",
        "- we can choose first 8 rows/ datapoints as training set and\n",
        "- remaining 2 rows will be available as test data."
      ]
    },
    {
      "cell_type": "markdown",
      "metadata": {
        "id": "ZfXpZfbwMFV_"
      },
      "source": [
        "\n",
        "\n",
        "<center><img src=\"https://drive.google.com/uc?id=1xnIXcm2Q8ELuDH7lYigrCU7CVkm7jbRv\" width=\"700\">\n"
      ]
    },
    {
      "cell_type": "markdown",
      "metadata": {
        "id": "JK0zujNbMfNV"
      },
      "source": [
        "In Real world,\n",
        "when we do this train test split,\n",
        "- It is not mandatory to take training data in any order.\n",
        "\n",
        "When we have 10 records,\n",
        "- and we are dividing it into 8 and 2.\n",
        "- It means 80% - 20%\n",
        "\n",
        "Now, these 2 test datapoints can be any two points.\n",
        "- It need not be last two datapoints.\n",
        "\n"
      ]
    },
    {
      "cell_type": "markdown",
      "metadata": {
        "id": "IvVbMyrGNxxu"
      },
      "source": [
        "<center><img src=\"https://drive.google.com/uc?id=1zCojEI12Zx-3nAzD6pm6Iby1eFRCMwB-\" width=\"700\">\n"
      ]
    },
    {
      "cell_type": "markdown",
      "metadata": {
        "id": "uJuzhYZAPK-8"
      },
      "source": [
        "Notice that,\n",
        "- In this case, we also have 80-20 split but in random way.\n",
        "\n",
        "Generally,\n",
        "- when we split data in train and test, it has to be complete random.\n",
        "- i.e. there's no pattern in datapoints selection for train/test."
      ]
    },
    {
      "cell_type": "markdown",
      "metadata": {
        "id": "e8UOmqfMP5sk"
      },
      "source": [
        "#### Question: What should be a good split ratio ?"
      ]
    },
    {
      "cell_type": "markdown",
      "metadata": {
        "id": "NMEEApfRP_7Y"
      },
      "source": [
        "Generally,\n",
        "\n",
        "- You'll find 80-20 split ratio.\n",
        "\n",
        "But, if you have good enough data (say 10k datapoint)\n",
        "- then we use 70-30 split i.e.\n",
        "    - Built model with 70% of datapoint and\n",
        "    - use rest 30% for test.\n",
        "\n",
        "It depends on how much data you have with you.\n",
        "- If you don't have sufficient amount of data with you, then\n",
        "    - 80-20 split can be preffered.\n",
        "\n",
        "- Else, 70-30 split can be chosen.\n",
        "\n",
        "We have a function/API which helps us in splitting the data and we'll explore it in today's lecture"
      ]
    },
    {
      "cell_type": "markdown",
      "metadata": {
        "id": "QwbS8z7KSwXo"
      },
      "source": [
        "#### Question: What do we do after splitting the data ?\n",
        "\n",
        "- Now, we have the train data.\n",
        "\n",
        "- From train data, we build a mathematical function (say, model)\n",
        "\n",
        "\n",
        "#### Question: What do we do with this model ?\n",
        "\n",
        "- Using this trained model,\n",
        "    - We run this model on test data\n",
        "    - We use the `predict` function on test data and get the predictions\n",
        "\n",
        "After getting the predictions,\n",
        "- we calculate the $R^2$ on Test data.\n",
        "\n",
        "If this $R^2$ comes out to be good, then we can say this model is a relaible model.\n",
        "- Because it's no use if we do the predictions on train data and calculate the $R^2$ (done in previous lecture)\n",
        "\n",
        "In previous lecture, we used train data to build the model and we were using same to test the model.\n",
        "- So, we'll definately get a good $R^2$ on it.\n"
      ]
    },
    {
      "cell_type": "markdown",
      "metadata": {
        "id": "IN3E-iI0QmsO"
      },
      "source": [
        "\n",
        "<center><img src=\"https://drive.google.com/uc?id=1qaO3Fpl-oH8QP5Lumt23uwuVXA_jZbZT\" width=\"700\">\n"
      ]
    },
    {
      "cell_type": "markdown",
      "metadata": {
        "id": "wKiECzirR9Pl"
      },
      "source": [
        "To summarize:\n",
        "- On train data, we'll build the model\n",
        "- On test data, we'll test our model performance."
      ]
    },
    {
      "cell_type": "markdown",
      "metadata": {
        "id": "vf2WaPj-Ug-y"
      },
      "source": [
        "### Feature importance and Interpretation"
      ]
    },
    {
      "cell_type": "markdown",
      "metadata": {
        "id": "fdUSB8txZFIA"
      },
      "source": [
        "Say, we are predicting sales of a product (say, Scaler DSML course ) based on TV ads spending (column A) and Social Media ads spending (column B).\n",
        "\n",
        "#### Question: What will be the regression equation for this ?\n",
        "\n",
        "Ans: $w_0 + w_1 A + w_2 B $= $ŷ$"
      ]
    },
    {
      "cell_type": "markdown",
      "metadata": {
        "id": "-6e1tK8hYsag"
      },
      "source": [
        "\n",
        "<center><img src=\"https://drive.google.com/uc?id=1SuapiRNKE8fz7IzhF7S1GRPpftEdxFJN\" width=\"700\">\n",
        "\n"
      ]
    },
    {
      "cell_type": "markdown",
      "metadata": {
        "id": "lUgPB-FbZAGV"
      },
      "source": [
        "Let's say, the coef. for our model are as follows:\n",
        "\n",
        "<br>\n",
        "\n",
        "**Equation: $ŷ$ = $3 + 2*TV + 3*SM$**\n",
        "\n",
        "<br>\n",
        "\n",
        "#### Question: Wha does this model tells us ?\n",
        "\n",
        "It tells us that\n",
        "- Say, we kept our TV budget as constant and increased our SM ads budget by 1 unit, it'll increase/impact our sales by 3 units.\n",
        "\n",
        "- If we keep our SM ads budget as constand and icrease the TV ads budget by 1 unit, it'll increase sales by 2 units\n",
        "\n",
        "#### What does this means?\n",
        "\n",
        "- It means higher the value coef, better the value.\n",
        "\n",
        "\n"
      ]
    },
    {
      "cell_type": "markdown",
      "metadata": {
        "id": "i-9siRvYcGS5"
      },
      "source": [
        "Now, suppose, our model is:\n",
        "\n",
        "$ŷ$ = $3 + 2*TV - 3*SM$\n",
        "\n",
        "#### Question: What does this mean?\n",
        "\n",
        "It means social media is impact our sales negatively.\n",
        "- For example:  We put up an ad which was percieved wrongfully and boycott trends start.\n",
        "\n",
        "\n",
        "This is how we interpret the coef."
      ]
    },
    {
      "cell_type": "markdown",
      "metadata": {
        "id": "qQnOiYpde0qV"
      },
      "source": [
        "### Importance of standardization"
      ]
    },
    {
      "cell_type": "markdown",
      "metadata": {
        "id": "KaKsOsoejoe_"
      },
      "source": [
        "We had 2 features i.e. TV budget and SM budget.\n",
        "\n",
        "Now,\n",
        "- values of TV budget are written in exact figures whereas\n",
        "\n",
        "- SM budget values have been factorized and are written for a million.\n",
        "    - For example: when the value of SM is 3, it means 3 million.\n",
        "\n",
        "When we built the model, the equation will be:\n",
        "\n",
        "$w_0 + w_1*TV - w_2*SM$ = sales"
      ]
    },
    {
      "cell_type": "markdown",
      "metadata": {
        "id": "lm4gcHF6ff7J"
      },
      "source": [
        "\n",
        "<center><img src=\"https://drive.google.com/uc?id=13Rq1i6aYW_dFtYT3-KhKig7ChEFLGFrm\" width=\"700\">\n",
        "\n"
      ]
    },
    {
      "cell_type": "markdown",
      "metadata": {
        "id": "pRRdLcreghx1"
      },
      "source": [
        "The values of TV budget are large whereas\n",
        "- the values of SM budget are at max of 2 digit (due to fix of scale to million)\n",
        "\n",
        "- While calculating the coef, it'll drive model to pick small value for $w_1$ and increase the value of $w_2$ to balance out things.\n",
        "\n",
        "Here, variation in **units** are going to create problem for us.\n",
        "\n",
        "\n",
        "#### Question: How can we resolve this issue ?\n",
        "\n",
        "=> Standardization / Normalization"
      ]
    },
    {
      "cell_type": "markdown",
      "metadata": {
        "id": "UiwC25JGlqYJ"
      },
      "source": [
        "We can do this using two methods:\n",
        "- If we use z-score here, we'll bring everything to same units\n",
        "\n",
        "- Another technique is min-max scaler.\n",
        "\n"
      ]
    },
    {
      "cell_type": "markdown",
      "metadata": {
        "id": "XIOCoyuOn1yJ"
      },
      "source": [
        "### Min max scaler"
      ]
    },
    {
      "cell_type": "markdown",
      "metadata": {
        "id": "H7f9TBmzn1Rs"
      },
      "source": [
        "It brings all the values in between the range of **0 - 1**"
      ]
    },
    {
      "cell_type": "markdown",
      "metadata": {
        "id": "vbR3kbMTqOap"
      },
      "source": [
        "#### Question: What two values do we need to convert values to 0 - 1 range ?\n",
        "\n",
        "Ans:\n",
        "\n",
        "Min max scaling = $\\frac{x_i - min}{max - min}$\n",
        "\n",
        "$x_i$ ranges from (min, max)\n",
        "\n",
        "- If we put $x_i$ = min, then\n",
        "\n",
        "=> $\\frac{min - min}{max - min}$ = 0\n",
        "\n",
        "- If we put $x_i$ = max , then\n",
        "\n",
        "=> $\\frac{max - min}{max - min}$ = 1\n",
        "\n",
        "\n",
        "\n",
        "\n",
        "\n",
        "\n"
      ]
    },
    {
      "cell_type": "markdown",
      "metadata": {
        "id": "Km3IZcEjoq6l"
      },
      "source": [
        "\n",
        "<center><img src=\"https://drive.google.com/uc?id=1XuLccB-9YirjjWalxskDVBKi1f1FE32q\" width=\"600\">\n"
      ]
    },
    {
      "cell_type": "markdown",
      "metadata": {
        "id": "RCzX2qUqrl1L"
      },
      "source": [
        "#### Question: Based on this, what will be the issue with Min max scaling ?\n",
        "\n",
        "Outlier can impact min max scaler.\n",
        "\n",
        "- As outlier value will be treated as max value,\n",
        "    - while scaling, it'll squeeze rest of the values to a very small range say 0 - 0.2\n",
        "    - Most of the values will sit near min value.\n",
        "\n",
        "New Max or Min Value In Test Data\n",
        "- When a value more than max value of training variable or less than min value of training variable comes in the test data variable we cannot fit it because the scale of all the variable data will be changed due to new min or max value"
      ]
    },
    {
      "cell_type": "markdown",
      "metadata": {
        "id": "os_vJOJ4g6fB"
      },
      "source": [
        "## Code walkthrough\n",
        "\n",
        "### Predict mileage using given attributes."
      ]
    },
    {
      "cell_type": "code",
      "execution_count": 2,
      "metadata": {
        "id": "lR90pdA0oETD"
      },
      "outputs": [],
      "source": [
        "import numpy as np\n",
        "from sklearn.linear_model import LinearRegression\n",
        "import pandas as pd\n",
        "import matplotlib.pyplot as plt\n",
        "%matplotlib inline\n",
        "import seaborn as sns\n",
        "from sklearn.model_selection import train_test_split # Sklearn package's randomized data splitting function\n"
      ]
    },
    {
      "cell_type": "markdown",
      "metadata": {
        "id": "zt_Eg8aOhOo3"
      },
      "source": [
        "### Load and review data"
      ]
    },
    {
      "cell_type": "code",
      "execution_count": 3,
      "metadata": {
        "colab": {
          "base_uri": "https://localhost:8080/"
        },
        "id": "-MYCZrMjhrMU",
        "outputId": "3dbc8697-094f-47ab-d19c-8863f447b81d"
      },
      "outputs": [
        {
          "name": "stdout",
          "output_type": "stream",
          "text": [
            "Downloading...\n",
            "From: https://drive.google.com/uc?id=1RN3Fncv6sypLDHRjYDlQlKC_ATXC5yB6\n",
            "To: /Users/manishdiddi/Documents/Scaler-AI-ML/Machine Learning/Linear Regression/auto-mpg.csv\n",
            "100%|██████████████████████████████████████| 18.1k/18.1k [00:00<00:00, 32.1MB/s]\n"
          ]
        }
      ],
      "source": [
        "!gdown 1RN3Fncv6sypLDHRjYDlQlKC_ATXC5yB6"
      ]
    },
    {
      "cell_type": "code",
      "execution_count": 4,
      "metadata": {
        "colab": {
          "base_uri": "https://localhost:8080/"
        },
        "id": "NW3uBVtYhPik",
        "outputId": "63628802-44a1-4f00-aaf9-0545e52d1b42"
      },
      "outputs": [
        {
          "data": {
            "text/plain": [
              "(398, 9)"
            ]
          },
          "execution_count": 4,
          "metadata": {},
          "output_type": "execute_result"
        }
      ],
      "source": [
        "cData = pd.read_csv(\"auto-mpg.csv\")\n",
        "cData.shape"
      ]
    },
    {
      "cell_type": "code",
      "execution_count": 5,
      "metadata": {
        "colab": {
          "base_uri": "https://localhost:8080/",
          "height": 206
        },
        "id": "wIWjvfjKh2Cy",
        "outputId": "f6b0544e-e93f-4e63-fa01-9e7db37059a2"
      },
      "outputs": [
        {
          "data": {
            "text/html": [
              "<div>\n",
              "<style scoped>\n",
              "    .dataframe tbody tr th:only-of-type {\n",
              "        vertical-align: middle;\n",
              "    }\n",
              "\n",
              "    .dataframe tbody tr th {\n",
              "        vertical-align: top;\n",
              "    }\n",
              "\n",
              "    .dataframe thead th {\n",
              "        text-align: right;\n",
              "    }\n",
              "</style>\n",
              "<table border=\"1\" class=\"dataframe\">\n",
              "  <thead>\n",
              "    <tr style=\"text-align: right;\">\n",
              "      <th></th>\n",
              "      <th>mpg</th>\n",
              "      <th>cylinders</th>\n",
              "      <th>displacement</th>\n",
              "      <th>horsepower</th>\n",
              "      <th>weight</th>\n",
              "      <th>acceleration</th>\n",
              "      <th>model year</th>\n",
              "      <th>origin</th>\n",
              "      <th>car name</th>\n",
              "    </tr>\n",
              "  </thead>\n",
              "  <tbody>\n",
              "    <tr>\n",
              "      <th>0</th>\n",
              "      <td>18.0</td>\n",
              "      <td>8</td>\n",
              "      <td>307.0</td>\n",
              "      <td>130</td>\n",
              "      <td>3504</td>\n",
              "      <td>12.0</td>\n",
              "      <td>70</td>\n",
              "      <td>1</td>\n",
              "      <td>chevrolet chevelle malibu</td>\n",
              "    </tr>\n",
              "    <tr>\n",
              "      <th>1</th>\n",
              "      <td>15.0</td>\n",
              "      <td>8</td>\n",
              "      <td>350.0</td>\n",
              "      <td>165</td>\n",
              "      <td>3693</td>\n",
              "      <td>11.5</td>\n",
              "      <td>70</td>\n",
              "      <td>1</td>\n",
              "      <td>buick skylark 320</td>\n",
              "    </tr>\n",
              "    <tr>\n",
              "      <th>2</th>\n",
              "      <td>18.0</td>\n",
              "      <td>8</td>\n",
              "      <td>318.0</td>\n",
              "      <td>150</td>\n",
              "      <td>3436</td>\n",
              "      <td>11.0</td>\n",
              "      <td>70</td>\n",
              "      <td>1</td>\n",
              "      <td>plymouth satellite</td>\n",
              "    </tr>\n",
              "    <tr>\n",
              "      <th>3</th>\n",
              "      <td>16.0</td>\n",
              "      <td>8</td>\n",
              "      <td>304.0</td>\n",
              "      <td>150</td>\n",
              "      <td>3433</td>\n",
              "      <td>12.0</td>\n",
              "      <td>70</td>\n",
              "      <td>1</td>\n",
              "      <td>amc rebel sst</td>\n",
              "    </tr>\n",
              "    <tr>\n",
              "      <th>4</th>\n",
              "      <td>17.0</td>\n",
              "      <td>8</td>\n",
              "      <td>302.0</td>\n",
              "      <td>140</td>\n",
              "      <td>3449</td>\n",
              "      <td>10.5</td>\n",
              "      <td>70</td>\n",
              "      <td>1</td>\n",
              "      <td>ford torino</td>\n",
              "    </tr>\n",
              "  </tbody>\n",
              "</table>\n",
              "</div>"
            ],
            "text/plain": [
              "    mpg  cylinders  displacement horsepower  weight  acceleration  model year  \\\n",
              "0  18.0          8         307.0        130    3504          12.0          70   \n",
              "1  15.0          8         350.0        165    3693          11.5          70   \n",
              "2  18.0          8         318.0        150    3436          11.0          70   \n",
              "3  16.0          8         304.0        150    3433          12.0          70   \n",
              "4  17.0          8         302.0        140    3449          10.5          70   \n",
              "\n",
              "   origin                   car name  \n",
              "0       1  chevrolet chevelle malibu  \n",
              "1       1          buick skylark 320  \n",
              "2       1         plymouth satellite  \n",
              "3       1              amc rebel sst  \n",
              "4       1                ford torino  "
            ]
          },
          "execution_count": 5,
          "metadata": {},
          "output_type": "execute_result"
        }
      ],
      "source": [
        "# 8 variables:\n",
        "#\n",
        "# MPG (miles per gallon),\n",
        "# cylinders,\n",
        "# engine displacement (cu. inches),\n",
        "# horsepower,\n",
        "# vehicle weight (lbs.),\n",
        "# time to accelerate from O to 60 mph (sec.),\n",
        "# model year (modulo 100), and\n",
        "# origin of car (1. American, 2. European,3. Asian).\n",
        "#\n",
        "# Also provided are the car labels (types)\n",
        "# Missing data values are marked by series of question marks.\n",
        "\n",
        "\n",
        "cData.head()"
      ]
    },
    {
      "cell_type": "markdown",
      "metadata": {
        "id": "WdbsKa7JiI7_"
      },
      "source": [
        "Here, origin can have 3 distinct values:\n",
        "- 1 => American\n",
        "- 2 => Eurpoean\n",
        "- 3 => Asian"
      ]
    },
    {
      "cell_type": "markdown",
      "metadata": {
        "id": "mYFzdG0Eil_b"
      },
      "source": [
        "#### Question: Do we need car name to predict the mileage ?\n",
        "\n",
        "Ans: No. So, let's drop the carname."
      ]
    },
    {
      "cell_type": "markdown",
      "metadata": {
        "id": "CMCuqySYjbDa"
      },
      "source": [
        "Let's also replace the origin value with their corresponding location"
      ]
    },
    {
      "cell_type": "code",
      "execution_count": 6,
      "metadata": {
        "colab": {
          "base_uri": "https://localhost:8080/",
          "height": 206
        },
        "id": "w2zoIIJwjENU",
        "outputId": "758686fc-a72b-4249-9752-e3f0ed6b6847"
      },
      "outputs": [
        {
          "data": {
            "text/html": [
              "<div>\n",
              "<style scoped>\n",
              "    .dataframe tbody tr th:only-of-type {\n",
              "        vertical-align: middle;\n",
              "    }\n",
              "\n",
              "    .dataframe tbody tr th {\n",
              "        vertical-align: top;\n",
              "    }\n",
              "\n",
              "    .dataframe thead th {\n",
              "        text-align: right;\n",
              "    }\n",
              "</style>\n",
              "<table border=\"1\" class=\"dataframe\">\n",
              "  <thead>\n",
              "    <tr style=\"text-align: right;\">\n",
              "      <th></th>\n",
              "      <th>mpg</th>\n",
              "      <th>cylinders</th>\n",
              "      <th>displacement</th>\n",
              "      <th>horsepower</th>\n",
              "      <th>weight</th>\n",
              "      <th>acceleration</th>\n",
              "      <th>model year</th>\n",
              "      <th>origin</th>\n",
              "    </tr>\n",
              "  </thead>\n",
              "  <tbody>\n",
              "    <tr>\n",
              "      <th>0</th>\n",
              "      <td>18.0</td>\n",
              "      <td>8</td>\n",
              "      <td>307.0</td>\n",
              "      <td>130</td>\n",
              "      <td>3504</td>\n",
              "      <td>12.0</td>\n",
              "      <td>70</td>\n",
              "      <td>American</td>\n",
              "    </tr>\n",
              "    <tr>\n",
              "      <th>1</th>\n",
              "      <td>15.0</td>\n",
              "      <td>8</td>\n",
              "      <td>350.0</td>\n",
              "      <td>165</td>\n",
              "      <td>3693</td>\n",
              "      <td>11.5</td>\n",
              "      <td>70</td>\n",
              "      <td>American</td>\n",
              "    </tr>\n",
              "    <tr>\n",
              "      <th>2</th>\n",
              "      <td>18.0</td>\n",
              "      <td>8</td>\n",
              "      <td>318.0</td>\n",
              "      <td>150</td>\n",
              "      <td>3436</td>\n",
              "      <td>11.0</td>\n",
              "      <td>70</td>\n",
              "      <td>American</td>\n",
              "    </tr>\n",
              "    <tr>\n",
              "      <th>3</th>\n",
              "      <td>16.0</td>\n",
              "      <td>8</td>\n",
              "      <td>304.0</td>\n",
              "      <td>150</td>\n",
              "      <td>3433</td>\n",
              "      <td>12.0</td>\n",
              "      <td>70</td>\n",
              "      <td>American</td>\n",
              "    </tr>\n",
              "    <tr>\n",
              "      <th>4</th>\n",
              "      <td>17.0</td>\n",
              "      <td>8</td>\n",
              "      <td>302.0</td>\n",
              "      <td>140</td>\n",
              "      <td>3449</td>\n",
              "      <td>10.5</td>\n",
              "      <td>70</td>\n",
              "      <td>American</td>\n",
              "    </tr>\n",
              "  </tbody>\n",
              "</table>\n",
              "</div>"
            ],
            "text/plain": [
              "    mpg  cylinders  displacement horsepower  weight  acceleration  model year  \\\n",
              "0  18.0          8         307.0        130    3504          12.0          70   \n",
              "1  15.0          8         350.0        165    3693          11.5          70   \n",
              "2  18.0          8         318.0        150    3436          11.0          70   \n",
              "3  16.0          8         304.0        150    3433          12.0          70   \n",
              "4  17.0          8         302.0        140    3449          10.5          70   \n",
              "\n",
              "     origin  \n",
              "0  American  \n",
              "1  American  \n",
              "2  American  \n",
              "3  American  \n",
              "4  American  "
            ]
          },
          "execution_count": 6,
          "metadata": {},
          "output_type": "execute_result"
        }
      ],
      "source": [
        "#dropping/ignoring car_name\n",
        "cData = cData.drop('car name', axis=1)\n",
        "# Also replacing the categorical var with actual values\n",
        "cData['origin'] = cData['origin'].replace({1: 'American', 2: 'europe', 3: 'asia'})\n",
        "cData.head()"
      ]
    },
    {
      "cell_type": "markdown",
      "metadata": {
        "id": "bYduV_AtjgNe"
      },
      "source": [
        "Recall that we can't use any categorical data into our regression equation.\n",
        "- We need to have our data in numbers\n",
        "\n",
        "#### How can we convert categorical to numerical data ?\n",
        "\n",
        "There are various techniques for encoding/ converting categorical to numerical data.\n",
        "\n",
        "In this example, we'll use a simple technique called **One Hot Encoding**"
      ]
    },
    {
      "cell_type": "markdown",
      "metadata": {
        "id": "fYn8i0u0kEpu"
      },
      "source": [
        "### One Hot encoding"
      ]
    },
    {
      "cell_type": "markdown",
      "metadata": {
        "id": "e71NbhqUlS9Z"
      },
      "source": [
        "Say, we have two columns\n",
        "- Age\n",
        "- Origin"
      ]
    },
    {
      "cell_type": "markdown",
      "metadata": {
        "id": "TDSIEwBjk1Zm"
      },
      "source": [
        "\n",
        "<center><img src=\"https://drive.google.com/uc?id=1P8vzCaXz3V7pQxSYX_y-d7wPVQ1i0wmW\" width=\"600\">\n",
        "\n"
      ]
    },
    {
      "cell_type": "markdown",
      "metadata": {
        "id": "KaPuvu4IlMyj"
      },
      "source": [
        "Let's say, we assigned\n",
        "- America = 1\n",
        "- India = 2\n",
        "- Australia = 3\n",
        "\n",
        "#### Question: Will this work ?\n",
        "\n",
        "There's an issue with this approach.\n",
        "\n",
        "- Since, we are assigning 3 to Australia\n",
        "    - It means we are giving more weightage to it.\n",
        "\n",
        "Our equation is $y = mx + c$\n",
        "\n",
        "- When we put x = 3 in it, it means we are giving more weightage to it; which isn't fair."
      ]
    },
    {
      "cell_type": "markdown",
      "metadata": {
        "id": "E7cRi_sElq2x"
      },
      "source": [
        "We solve this using **One Hot Encoding**\n",
        "\n",
        "- All the unqiue values of origin will be come separate column\n",
        "    - i.e. We'll have a separate column for India, America and Australia\n",
        "    "
      ]
    },
    {
      "cell_type": "markdown",
      "metadata": {
        "id": "TUP6kKq1maSa"
      },
      "source": [
        "\n",
        "<center><img src=\"https://drive.google.com/uc?id=1aF6HliqbJLHvlkUstNdTnhPDZE73bVXR\" width=\"600\">\n"
      ]
    },
    {
      "cell_type": "markdown",
      "metadata": {
        "id": "Zq-jEd-8nOSJ"
      },
      "source": [
        "In original column, we have origin as America for first row.\n",
        "\n",
        "- So, we'll populate the America column as 1. In rest of the column, we'll put 0.\n",
        "\n",
        "Similarly,\n",
        "- we have India as origin for second row.\n",
        "\n",
        "So, we'll put India as 1 and rest two as zero"
      ]
    },
    {
      "cell_type": "markdown",
      "metadata": {
        "id": "tdo5AEXioC_P"
      },
      "source": [
        "\n",
        "<center><img src=\"https://drive.google.com/uc?id=173G4IEptAopiVjz8jvuufX39cPNpXOHg\" width=\"600\">\n"
      ]
    },
    {
      "cell_type": "markdown",
      "metadata": {
        "id": "ui1HwruqooG6"
      },
      "source": [
        "Using this technique, we are not giving any advantage to specific value.\n",
        "\n",
        "#### Question: Say, you know the values for America and India column. Can you figure out values for Australia column ?\n",
        "\n",
        "Ans: Yes. If we know values for two out of 3 columns, we can automatically find the value for 3rd column\n",
        "\n",
        "- This makes one of the column as redundant.\n",
        "- and we can remove one of the column\n",
        "\n",
        "So, we'll simply remove one column (Australia)\n",
        "\n",
        "Let's apply it using code"
      ]
    },
    {
      "cell_type": "markdown",
      "metadata": {
        "id": "bsBYV7cwpL-x"
      },
      "source": [
        "### Create Dummy Variables\n",
        "Values like 'america' cannot be read into an equation. Using substitutes like 1 for america, 2 for europe and 3 for asia would end up implying that european cars fall exactly half way between american and asian cars! we dont want to impose such an baseless assumption!\n",
        "\n",
        "So we create 3 simple true or false columns with titles equivalent to \"Is this car America?\", \"Is this care European?\" and \"Is this car Asian?\". These will be used as independent variables without imposing any kind of ordering between the three regions.\n",
        "\n",
        "\n"
      ]
    },
    {
      "cell_type": "code",
      "execution_count": 7,
      "metadata": {
        "colab": {
          "base_uri": "https://localhost:8080/",
          "height": 250
        },
        "id": "14_FRmufqcAR",
        "outputId": "a121a56d-23e7-42b7-d5d1-24e4e2f6c4d6"
      },
      "outputs": [
        {
          "data": {
            "text/html": [
              "<div>\n",
              "<style scoped>\n",
              "    .dataframe tbody tr th:only-of-type {\n",
              "        vertical-align: middle;\n",
              "    }\n",
              "\n",
              "    .dataframe tbody tr th {\n",
              "        vertical-align: top;\n",
              "    }\n",
              "\n",
              "    .dataframe thead th {\n",
              "        text-align: right;\n",
              "    }\n",
              "</style>\n",
              "<table border=\"1\" class=\"dataframe\">\n",
              "  <thead>\n",
              "    <tr style=\"text-align: right;\">\n",
              "      <th></th>\n",
              "      <th>mpg</th>\n",
              "      <th>cylinders</th>\n",
              "      <th>displacement</th>\n",
              "      <th>horsepower</th>\n",
              "      <th>weight</th>\n",
              "      <th>acceleration</th>\n",
              "      <th>model year</th>\n",
              "      <th>origin_American</th>\n",
              "      <th>origin_asia</th>\n",
              "      <th>origin_europe</th>\n",
              "    </tr>\n",
              "  </thead>\n",
              "  <tbody>\n",
              "    <tr>\n",
              "      <th>0</th>\n",
              "      <td>18.0</td>\n",
              "      <td>8</td>\n",
              "      <td>307.0</td>\n",
              "      <td>130</td>\n",
              "      <td>3504</td>\n",
              "      <td>12.0</td>\n",
              "      <td>70</td>\n",
              "      <td>True</td>\n",
              "      <td>False</td>\n",
              "      <td>False</td>\n",
              "    </tr>\n",
              "    <tr>\n",
              "      <th>1</th>\n",
              "      <td>15.0</td>\n",
              "      <td>8</td>\n",
              "      <td>350.0</td>\n",
              "      <td>165</td>\n",
              "      <td>3693</td>\n",
              "      <td>11.5</td>\n",
              "      <td>70</td>\n",
              "      <td>True</td>\n",
              "      <td>False</td>\n",
              "      <td>False</td>\n",
              "    </tr>\n",
              "    <tr>\n",
              "      <th>2</th>\n",
              "      <td>18.0</td>\n",
              "      <td>8</td>\n",
              "      <td>318.0</td>\n",
              "      <td>150</td>\n",
              "      <td>3436</td>\n",
              "      <td>11.0</td>\n",
              "      <td>70</td>\n",
              "      <td>True</td>\n",
              "      <td>False</td>\n",
              "      <td>False</td>\n",
              "    </tr>\n",
              "    <tr>\n",
              "      <th>3</th>\n",
              "      <td>16.0</td>\n",
              "      <td>8</td>\n",
              "      <td>304.0</td>\n",
              "      <td>150</td>\n",
              "      <td>3433</td>\n",
              "      <td>12.0</td>\n",
              "      <td>70</td>\n",
              "      <td>True</td>\n",
              "      <td>False</td>\n",
              "      <td>False</td>\n",
              "    </tr>\n",
              "    <tr>\n",
              "      <th>4</th>\n",
              "      <td>17.0</td>\n",
              "      <td>8</td>\n",
              "      <td>302.0</td>\n",
              "      <td>140</td>\n",
              "      <td>3449</td>\n",
              "      <td>10.5</td>\n",
              "      <td>70</td>\n",
              "      <td>True</td>\n",
              "      <td>False</td>\n",
              "      <td>False</td>\n",
              "    </tr>\n",
              "  </tbody>\n",
              "</table>\n",
              "</div>"
            ],
            "text/plain": [
              "    mpg  cylinders  displacement horsepower  weight  acceleration  model year  \\\n",
              "0  18.0          8         307.0        130    3504          12.0          70   \n",
              "1  15.0          8         350.0        165    3693          11.5          70   \n",
              "2  18.0          8         318.0        150    3436          11.0          70   \n",
              "3  16.0          8         304.0        150    3433          12.0          70   \n",
              "4  17.0          8         302.0        140    3449          10.5          70   \n",
              "\n",
              "   origin_American  origin_asia  origin_europe  \n",
              "0             True        False          False  \n",
              "1             True        False          False  \n",
              "2             True        False          False  \n",
              "3             True        False          False  \n",
              "4             True        False          False  "
            ]
          },
          "execution_count": 7,
          "metadata": {},
          "output_type": "execute_result"
        }
      ],
      "source": [
        "cData = pd.get_dummies(cData, columns=['origin'])\n",
        "cData.head()"
      ]
    },
    {
      "cell_type": "markdown",
      "metadata": {
        "id": "B-bJb9MSq-au"
      },
      "source": [
        "### Dealing with Missing Values"
      ]
    },
    {
      "cell_type": "code",
      "execution_count": 8,
      "metadata": {
        "colab": {
          "base_uri": "https://localhost:8080/",
          "height": 362
        },
        "id": "pdYqpmiDsjWx",
        "outputId": "b42adb98-25aa-4c2a-9947-e9591a21da32"
      },
      "outputs": [
        {
          "data": {
            "text/html": [
              "<div>\n",
              "<style scoped>\n",
              "    .dataframe tbody tr th:only-of-type {\n",
              "        vertical-align: middle;\n",
              "    }\n",
              "\n",
              "    .dataframe tbody tr th {\n",
              "        vertical-align: top;\n",
              "    }\n",
              "\n",
              "    .dataframe thead th {\n",
              "        text-align: right;\n",
              "    }\n",
              "</style>\n",
              "<table border=\"1\" class=\"dataframe\">\n",
              "  <thead>\n",
              "    <tr style=\"text-align: right;\">\n",
              "      <th></th>\n",
              "      <th>mpg</th>\n",
              "      <th>cylinders</th>\n",
              "      <th>displacement</th>\n",
              "      <th>weight</th>\n",
              "      <th>acceleration</th>\n",
              "      <th>model year</th>\n",
              "    </tr>\n",
              "  </thead>\n",
              "  <tbody>\n",
              "    <tr>\n",
              "      <th>count</th>\n",
              "      <td>398.000000</td>\n",
              "      <td>398.000000</td>\n",
              "      <td>398.000000</td>\n",
              "      <td>398.000000</td>\n",
              "      <td>398.000000</td>\n",
              "      <td>398.000000</td>\n",
              "    </tr>\n",
              "    <tr>\n",
              "      <th>mean</th>\n",
              "      <td>23.514573</td>\n",
              "      <td>5.454774</td>\n",
              "      <td>193.425879</td>\n",
              "      <td>2970.424623</td>\n",
              "      <td>15.568090</td>\n",
              "      <td>76.010050</td>\n",
              "    </tr>\n",
              "    <tr>\n",
              "      <th>std</th>\n",
              "      <td>7.815984</td>\n",
              "      <td>1.701004</td>\n",
              "      <td>104.269838</td>\n",
              "      <td>846.841774</td>\n",
              "      <td>2.757689</td>\n",
              "      <td>3.697627</td>\n",
              "    </tr>\n",
              "    <tr>\n",
              "      <th>min</th>\n",
              "      <td>9.000000</td>\n",
              "      <td>3.000000</td>\n",
              "      <td>68.000000</td>\n",
              "      <td>1613.000000</td>\n",
              "      <td>8.000000</td>\n",
              "      <td>70.000000</td>\n",
              "    </tr>\n",
              "    <tr>\n",
              "      <th>25%</th>\n",
              "      <td>17.500000</td>\n",
              "      <td>4.000000</td>\n",
              "      <td>104.250000</td>\n",
              "      <td>2223.750000</td>\n",
              "      <td>13.825000</td>\n",
              "      <td>73.000000</td>\n",
              "    </tr>\n",
              "    <tr>\n",
              "      <th>50%</th>\n",
              "      <td>23.000000</td>\n",
              "      <td>4.000000</td>\n",
              "      <td>148.500000</td>\n",
              "      <td>2803.500000</td>\n",
              "      <td>15.500000</td>\n",
              "      <td>76.000000</td>\n",
              "    </tr>\n",
              "    <tr>\n",
              "      <th>75%</th>\n",
              "      <td>29.000000</td>\n",
              "      <td>8.000000</td>\n",
              "      <td>262.000000</td>\n",
              "      <td>3608.000000</td>\n",
              "      <td>17.175000</td>\n",
              "      <td>79.000000</td>\n",
              "    </tr>\n",
              "    <tr>\n",
              "      <th>max</th>\n",
              "      <td>46.600000</td>\n",
              "      <td>8.000000</td>\n",
              "      <td>455.000000</td>\n",
              "      <td>5140.000000</td>\n",
              "      <td>24.800000</td>\n",
              "      <td>82.000000</td>\n",
              "    </tr>\n",
              "  </tbody>\n",
              "</table>\n",
              "</div>"
            ],
            "text/plain": [
              "              mpg   cylinders  displacement       weight  acceleration  \\\n",
              "count  398.000000  398.000000    398.000000   398.000000    398.000000   \n",
              "mean    23.514573    5.454774    193.425879  2970.424623     15.568090   \n",
              "std      7.815984    1.701004    104.269838   846.841774      2.757689   \n",
              "min      9.000000    3.000000     68.000000  1613.000000      8.000000   \n",
              "25%     17.500000    4.000000    104.250000  2223.750000     13.825000   \n",
              "50%     23.000000    4.000000    148.500000  2803.500000     15.500000   \n",
              "75%     29.000000    8.000000    262.000000  3608.000000     17.175000   \n",
              "max     46.600000    8.000000    455.000000  5140.000000     24.800000   \n",
              "\n",
              "       model year  \n",
              "count  398.000000  \n",
              "mean    76.010050  \n",
              "std      3.697627  \n",
              "min     70.000000  \n",
              "25%     73.000000  \n",
              "50%     76.000000  \n",
              "75%     79.000000  \n",
              "max     82.000000  "
            ]
          },
          "execution_count": 8,
          "metadata": {},
          "output_type": "execute_result"
        }
      ],
      "source": [
        "#A quick summary of the data columns\n",
        "cData.describe()"
      ]
    },
    {
      "cell_type": "markdown",
      "metadata": {
        "id": "ZTZtuVY9skj2"
      },
      "source": [
        "#### Datatypes of column"
      ]
    },
    {
      "cell_type": "code",
      "execution_count": 9,
      "metadata": {
        "colab": {
          "base_uri": "https://localhost:8080/"
        },
        "id": "DxJ6isDosvev",
        "outputId": "ea7c122f-abbe-419c-be14-5ee2565bdd6c"
      },
      "outputs": [
        {
          "data": {
            "text/plain": [
              "mpg                float64\n",
              "cylinders            int64\n",
              "displacement       float64\n",
              "horsepower          object\n",
              "weight               int64\n",
              "acceleration       float64\n",
              "model year           int64\n",
              "origin_American       bool\n",
              "origin_asia           bool\n",
              "origin_europe         bool\n",
              "dtype: object"
            ]
          },
          "execution_count": 9,
          "metadata": {},
          "output_type": "execute_result"
        }
      ],
      "source": [
        "# hp is missing cause it does not seem to be reqcognized as a numerical column!\n",
        "cData.dtypes"
      ]
    },
    {
      "cell_type": "markdown",
      "metadata": {
        "id": "PnBjgZxTtXv6"
      },
      "source": [
        "Notice that\n",
        "- dtype of horsepower is `object`"
      ]
    },
    {
      "cell_type": "code",
      "execution_count": 10,
      "metadata": {
        "colab": {
          "base_uri": "https://localhost:8080/",
          "height": 299
        },
        "id": "aQbrIEP0s-l_",
        "outputId": "0ba559b7-499f-4d42-a8eb-ef995b635cd2"
      },
      "outputs": [
        {
          "data": {
            "text/html": [
              "<div>\n",
              "<style scoped>\n",
              "    .dataframe tbody tr th:only-of-type {\n",
              "        vertical-align: middle;\n",
              "    }\n",
              "\n",
              "    .dataframe tbody tr th {\n",
              "        vertical-align: top;\n",
              "    }\n",
              "\n",
              "    .dataframe thead th {\n",
              "        text-align: right;\n",
              "    }\n",
              "</style>\n",
              "<table border=\"1\" class=\"dataframe\">\n",
              "  <thead>\n",
              "    <tr style=\"text-align: right;\">\n",
              "      <th></th>\n",
              "      <th>mpg</th>\n",
              "      <th>cylinders</th>\n",
              "      <th>displacement</th>\n",
              "      <th>horsepower</th>\n",
              "      <th>weight</th>\n",
              "      <th>acceleration</th>\n",
              "      <th>model year</th>\n",
              "      <th>origin_American</th>\n",
              "      <th>origin_asia</th>\n",
              "      <th>origin_europe</th>\n",
              "    </tr>\n",
              "  </thead>\n",
              "  <tbody>\n",
              "    <tr>\n",
              "      <th>32</th>\n",
              "      <td>25.0</td>\n",
              "      <td>4</td>\n",
              "      <td>98.0</td>\n",
              "      <td>?</td>\n",
              "      <td>2046</td>\n",
              "      <td>19.0</td>\n",
              "      <td>71</td>\n",
              "      <td>True</td>\n",
              "      <td>False</td>\n",
              "      <td>False</td>\n",
              "    </tr>\n",
              "    <tr>\n",
              "      <th>126</th>\n",
              "      <td>21.0</td>\n",
              "      <td>6</td>\n",
              "      <td>200.0</td>\n",
              "      <td>?</td>\n",
              "      <td>2875</td>\n",
              "      <td>17.0</td>\n",
              "      <td>74</td>\n",
              "      <td>True</td>\n",
              "      <td>False</td>\n",
              "      <td>False</td>\n",
              "    </tr>\n",
              "    <tr>\n",
              "      <th>330</th>\n",
              "      <td>40.9</td>\n",
              "      <td>4</td>\n",
              "      <td>85.0</td>\n",
              "      <td>?</td>\n",
              "      <td>1835</td>\n",
              "      <td>17.3</td>\n",
              "      <td>80</td>\n",
              "      <td>False</td>\n",
              "      <td>False</td>\n",
              "      <td>True</td>\n",
              "    </tr>\n",
              "    <tr>\n",
              "      <th>336</th>\n",
              "      <td>23.6</td>\n",
              "      <td>4</td>\n",
              "      <td>140.0</td>\n",
              "      <td>?</td>\n",
              "      <td>2905</td>\n",
              "      <td>14.3</td>\n",
              "      <td>80</td>\n",
              "      <td>True</td>\n",
              "      <td>False</td>\n",
              "      <td>False</td>\n",
              "    </tr>\n",
              "    <tr>\n",
              "      <th>354</th>\n",
              "      <td>34.5</td>\n",
              "      <td>4</td>\n",
              "      <td>100.0</td>\n",
              "      <td>?</td>\n",
              "      <td>2320</td>\n",
              "      <td>15.8</td>\n",
              "      <td>81</td>\n",
              "      <td>False</td>\n",
              "      <td>False</td>\n",
              "      <td>True</td>\n",
              "    </tr>\n",
              "    <tr>\n",
              "      <th>374</th>\n",
              "      <td>23.0</td>\n",
              "      <td>4</td>\n",
              "      <td>151.0</td>\n",
              "      <td>?</td>\n",
              "      <td>3035</td>\n",
              "      <td>20.5</td>\n",
              "      <td>82</td>\n",
              "      <td>True</td>\n",
              "      <td>False</td>\n",
              "      <td>False</td>\n",
              "    </tr>\n",
              "  </tbody>\n",
              "</table>\n",
              "</div>"
            ],
            "text/plain": [
              "      mpg  cylinders  displacement horsepower  weight  acceleration  \\\n",
              "32   25.0          4          98.0          ?    2046          19.0   \n",
              "126  21.0          6         200.0          ?    2875          17.0   \n",
              "330  40.9          4          85.0          ?    1835          17.3   \n",
              "336  23.6          4         140.0          ?    2905          14.3   \n",
              "354  34.5          4         100.0          ?    2320          15.8   \n",
              "374  23.0          4         151.0          ?    3035          20.5   \n",
              "\n",
              "     model year  origin_American  origin_asia  origin_europe  \n",
              "32           71             True        False          False  \n",
              "126          74             True        False          False  \n",
              "330          80            False        False           True  \n",
              "336          80             True        False          False  \n",
              "354          81            False        False           True  \n",
              "374          82             True        False          False  "
            ]
          },
          "execution_count": 10,
          "metadata": {},
          "output_type": "execute_result"
        }
      ],
      "source": [
        "# isdigit()? on 'horsepower'\n",
        "hpIsDigit = pd.DataFrame(cData.horsepower.str.isdigit())  # if the string is made of digits store True else False\n",
        "\n",
        "#print isDigit = False!\n",
        "cData[hpIsDigit['horsepower'] == False]   # from temp take only those rows where hp has false\n"
      ]
    },
    {
      "cell_type": "markdown",
      "metadata": {
        "id": "tcpbiQSztWnA"
      },
      "source": [
        "we have some missing values in `horsepower` columns.\n",
        "\n",
        "We'll convert it to NaNs"
      ]
    },
    {
      "cell_type": "code",
      "execution_count": 11,
      "metadata": {
        "colab": {
          "base_uri": "https://localhost:8080/",
          "height": 299
        },
        "id": "6GdVPnq5tqYk",
        "outputId": "73d44f35-ea8b-47dd-b128-e5f045ae6538"
      },
      "outputs": [
        {
          "data": {
            "text/html": [
              "<div>\n",
              "<style scoped>\n",
              "    .dataframe tbody tr th:only-of-type {\n",
              "        vertical-align: middle;\n",
              "    }\n",
              "\n",
              "    .dataframe tbody tr th {\n",
              "        vertical-align: top;\n",
              "    }\n",
              "\n",
              "    .dataframe thead th {\n",
              "        text-align: right;\n",
              "    }\n",
              "</style>\n",
              "<table border=\"1\" class=\"dataframe\">\n",
              "  <thead>\n",
              "    <tr style=\"text-align: right;\">\n",
              "      <th></th>\n",
              "      <th>mpg</th>\n",
              "      <th>cylinders</th>\n",
              "      <th>displacement</th>\n",
              "      <th>horsepower</th>\n",
              "      <th>weight</th>\n",
              "      <th>acceleration</th>\n",
              "      <th>model year</th>\n",
              "      <th>origin_American</th>\n",
              "      <th>origin_asia</th>\n",
              "      <th>origin_europe</th>\n",
              "    </tr>\n",
              "  </thead>\n",
              "  <tbody>\n",
              "    <tr>\n",
              "      <th>32</th>\n",
              "      <td>25.0</td>\n",
              "      <td>4</td>\n",
              "      <td>98.0</td>\n",
              "      <td>NaN</td>\n",
              "      <td>2046</td>\n",
              "      <td>19.0</td>\n",
              "      <td>71</td>\n",
              "      <td>True</td>\n",
              "      <td>False</td>\n",
              "      <td>False</td>\n",
              "    </tr>\n",
              "    <tr>\n",
              "      <th>126</th>\n",
              "      <td>21.0</td>\n",
              "      <td>6</td>\n",
              "      <td>200.0</td>\n",
              "      <td>NaN</td>\n",
              "      <td>2875</td>\n",
              "      <td>17.0</td>\n",
              "      <td>74</td>\n",
              "      <td>True</td>\n",
              "      <td>False</td>\n",
              "      <td>False</td>\n",
              "    </tr>\n",
              "    <tr>\n",
              "      <th>330</th>\n",
              "      <td>40.9</td>\n",
              "      <td>4</td>\n",
              "      <td>85.0</td>\n",
              "      <td>NaN</td>\n",
              "      <td>1835</td>\n",
              "      <td>17.3</td>\n",
              "      <td>80</td>\n",
              "      <td>False</td>\n",
              "      <td>False</td>\n",
              "      <td>True</td>\n",
              "    </tr>\n",
              "    <tr>\n",
              "      <th>336</th>\n",
              "      <td>23.6</td>\n",
              "      <td>4</td>\n",
              "      <td>140.0</td>\n",
              "      <td>NaN</td>\n",
              "      <td>2905</td>\n",
              "      <td>14.3</td>\n",
              "      <td>80</td>\n",
              "      <td>True</td>\n",
              "      <td>False</td>\n",
              "      <td>False</td>\n",
              "    </tr>\n",
              "    <tr>\n",
              "      <th>354</th>\n",
              "      <td>34.5</td>\n",
              "      <td>4</td>\n",
              "      <td>100.0</td>\n",
              "      <td>NaN</td>\n",
              "      <td>2320</td>\n",
              "      <td>15.8</td>\n",
              "      <td>81</td>\n",
              "      <td>False</td>\n",
              "      <td>False</td>\n",
              "      <td>True</td>\n",
              "    </tr>\n",
              "    <tr>\n",
              "      <th>374</th>\n",
              "      <td>23.0</td>\n",
              "      <td>4</td>\n",
              "      <td>151.0</td>\n",
              "      <td>NaN</td>\n",
              "      <td>3035</td>\n",
              "      <td>20.5</td>\n",
              "      <td>82</td>\n",
              "      <td>True</td>\n",
              "      <td>False</td>\n",
              "      <td>False</td>\n",
              "    </tr>\n",
              "  </tbody>\n",
              "</table>\n",
              "</div>"
            ],
            "text/plain": [
              "      mpg  cylinders  displacement horsepower  weight  acceleration  \\\n",
              "32   25.0          4          98.0        NaN    2046          19.0   \n",
              "126  21.0          6         200.0        NaN    2875          17.0   \n",
              "330  40.9          4          85.0        NaN    1835          17.3   \n",
              "336  23.6          4         140.0        NaN    2905          14.3   \n",
              "354  34.5          4         100.0        NaN    2320          15.8   \n",
              "374  23.0          4         151.0        NaN    3035          20.5   \n",
              "\n",
              "     model year  origin_American  origin_asia  origin_europe  \n",
              "32           71             True        False          False  \n",
              "126          74             True        False          False  \n",
              "330          80            False        False           True  \n",
              "336          80             True        False          False  \n",
              "354          81            False        False           True  \n",
              "374          82             True        False          False  "
            ]
          },
          "execution_count": 11,
          "metadata": {},
          "output_type": "execute_result"
        }
      ],
      "source": [
        "# Missing values have a'?''\n",
        "# Replace missing values with NaN\n",
        "cData = cData.replace('?', np.nan)\n",
        "cData[hpIsDigit['horsepower'] == False]"
      ]
    },
    {
      "cell_type": "markdown",
      "metadata": {
        "id": "snA6Z4x5ts14"
      },
      "source": [
        "### Handling missing values"
      ]
    },
    {
      "cell_type": "markdown",
      "metadata": {
        "id": "5mQhgL0Ft__G"
      },
      "source": [
        "There are various ways to handle missing values.\n",
        "- Drop the rows\n",
        "- replace missing values with median values etc.\n",
        "\n",
        "Out of 398 rows, 6 have NAN in the hp column.\n",
        "\n",
        "We could drop those 6 rows - which might not be a good idea under all situations\n",
        "\n",
        "Instead of dropping the rows, lets replace the missing values with median value.\n",
        "\n"
      ]
    },
    {
      "cell_type": "code",
      "execution_count": 15,
      "metadata": {
        "colab": {
          "base_uri": "https://localhost:8080/"
        },
        "id": "46ns_wWquPgn",
        "outputId": "0ac2b058-e6f1-4dd9-d930-896dfb78c3f6"
      },
      "outputs": [
        {
          "data": {
            "text/plain": [
              "mpg                  23.0\n",
              "cylinders             4.0\n",
              "displacement        148.5\n",
              "horsepower           93.5\n",
              "weight             2803.5\n",
              "acceleration         15.5\n",
              "model year           76.0\n",
              "origin_American       1.0\n",
              "origin_asia           0.0\n",
              "origin_europe         0.0\n",
              "dtype: float64"
            ]
          },
          "execution_count": 15,
          "metadata": {},
          "output_type": "execute_result"
        }
      ],
      "source": [
        "cData.median()"
      ]
    },
    {
      "cell_type": "code",
      "execution_count": 14,
      "metadata": {
        "id": "WJuRtzQeuQFo"
      },
      "outputs": [],
      "source": [
        "# replace the missing values with median value.\n",
        "# Note, we do not need to specify the column names below\n",
        "# every column's missing value is replaced with that column's median respectively  (axis =0 means columnwise)\n",
        "#cData = cData.fillna(cData.median())\n",
        "cData['horsepower'] = cData['horsepower'].astype('float64')  # converting the hp column from object / string type to float\n",
        "\n",
        "medianFiller = lambda x: x.fillna(x.median())\n",
        "cData = cData.apply(medianFiller,axis=0)\n",
        "\n"
      ]
    },
    {
      "cell_type": "markdown",
      "metadata": {
        "id": "GsqcAtEFuds7"
      },
      "source": [
        "### Split Data"
      ]
    },
    {
      "cell_type": "markdown",
      "metadata": {
        "id": "Hp0E-WIau3WU"
      },
      "source": [
        "Before splitting, we'll also drop one of Dummy column (Europe) as it is redundant"
      ]
    },
    {
      "cell_type": "code",
      "execution_count": 16,
      "metadata": {
        "id": "YOVIjmtou15Z"
      },
      "outputs": [],
      "source": [
        "# lets build our linear model\n",
        "# independant variables\n",
        "X = cData.drop(['mpg','origin_europe'], axis=1)\n",
        "# the dependent variable\n",
        "y = cData[['mpg']]"
      ]
    },
    {
      "cell_type": "code",
      "execution_count": 17,
      "metadata": {
        "id": "NWoxLK47u_KT"
      },
      "outputs": [],
      "source": [
        "# Split X and y into training and test set in 70:30 ratio\n",
        "\n",
        "X_train, X_test, y_train, y_test = train_test_split(X, y, test_size=0.30, random_state=1)"
      ]
    },
    {
      "cell_type": "markdown",
      "metadata": {
        "id": "AGJ-vvuw3rnD"
      },
      "source": [
        "### Fit Linear Model"
      ]
    },
    {
      "cell_type": "markdown",
      "metadata": {
        "id": "xy22Hdvl3uSv"
      },
      "source": [
        "#### Question: What should we pass in fit function ?\n",
        "\n",
        "We'll pass `X_train, y_train` to fit function"
      ]
    },
    {
      "cell_type": "code",
      "execution_count": 18,
      "metadata": {
        "colab": {
          "base_uri": "https://localhost:8080/"
        },
        "id": "Cz3oXsmn30h2",
        "outputId": "b286984b-f3cb-4913-f8ea-380669ceeaba"
      },
      "outputs": [
        {
          "data": {
            "text/html": [
              "<style>#sk-container-id-1 {\n",
              "  /* Definition of color scheme common for light and dark mode */\n",
              "  --sklearn-color-text: #000;\n",
              "  --sklearn-color-text-muted: #666;\n",
              "  --sklearn-color-line: gray;\n",
              "  /* Definition of color scheme for unfitted estimators */\n",
              "  --sklearn-color-unfitted-level-0: #fff5e6;\n",
              "  --sklearn-color-unfitted-level-1: #f6e4d2;\n",
              "  --sklearn-color-unfitted-level-2: #ffe0b3;\n",
              "  --sklearn-color-unfitted-level-3: chocolate;\n",
              "  /* Definition of color scheme for fitted estimators */\n",
              "  --sklearn-color-fitted-level-0: #f0f8ff;\n",
              "  --sklearn-color-fitted-level-1: #d4ebff;\n",
              "  --sklearn-color-fitted-level-2: #b3dbfd;\n",
              "  --sklearn-color-fitted-level-3: cornflowerblue;\n",
              "\n",
              "  /* Specific color for light theme */\n",
              "  --sklearn-color-text-on-default-background: var(--sg-text-color, var(--theme-code-foreground, var(--jp-content-font-color1, black)));\n",
              "  --sklearn-color-background: var(--sg-background-color, var(--theme-background, var(--jp-layout-color0, white)));\n",
              "  --sklearn-color-border-box: var(--sg-text-color, var(--theme-code-foreground, var(--jp-content-font-color1, black)));\n",
              "  --sklearn-color-icon: #696969;\n",
              "\n",
              "  @media (prefers-color-scheme: dark) {\n",
              "    /* Redefinition of color scheme for dark theme */\n",
              "    --sklearn-color-text-on-default-background: var(--sg-text-color, var(--theme-code-foreground, var(--jp-content-font-color1, white)));\n",
              "    --sklearn-color-background: var(--sg-background-color, var(--theme-background, var(--jp-layout-color0, #111)));\n",
              "    --sklearn-color-border-box: var(--sg-text-color, var(--theme-code-foreground, var(--jp-content-font-color1, white)));\n",
              "    --sklearn-color-icon: #878787;\n",
              "  }\n",
              "}\n",
              "\n",
              "#sk-container-id-1 {\n",
              "  color: var(--sklearn-color-text);\n",
              "}\n",
              "\n",
              "#sk-container-id-1 pre {\n",
              "  padding: 0;\n",
              "}\n",
              "\n",
              "#sk-container-id-1 input.sk-hidden--visually {\n",
              "  border: 0;\n",
              "  clip: rect(1px 1px 1px 1px);\n",
              "  clip: rect(1px, 1px, 1px, 1px);\n",
              "  height: 1px;\n",
              "  margin: -1px;\n",
              "  overflow: hidden;\n",
              "  padding: 0;\n",
              "  position: absolute;\n",
              "  width: 1px;\n",
              "}\n",
              "\n",
              "#sk-container-id-1 div.sk-dashed-wrapped {\n",
              "  border: 1px dashed var(--sklearn-color-line);\n",
              "  margin: 0 0.4em 0.5em 0.4em;\n",
              "  box-sizing: border-box;\n",
              "  padding-bottom: 0.4em;\n",
              "  background-color: var(--sklearn-color-background);\n",
              "}\n",
              "\n",
              "#sk-container-id-1 div.sk-container {\n",
              "  /* jupyter's `normalize.less` sets `[hidden] { display: none; }`\n",
              "     but bootstrap.min.css set `[hidden] { display: none !important; }`\n",
              "     so we also need the `!important` here to be able to override the\n",
              "     default hidden behavior on the sphinx rendered scikit-learn.org.\n",
              "     See: https://github.com/scikit-learn/scikit-learn/issues/21755 */\n",
              "  display: inline-block !important;\n",
              "  position: relative;\n",
              "}\n",
              "\n",
              "#sk-container-id-1 div.sk-text-repr-fallback {\n",
              "  display: none;\n",
              "}\n",
              "\n",
              "div.sk-parallel-item,\n",
              "div.sk-serial,\n",
              "div.sk-item {\n",
              "  /* draw centered vertical line to link estimators */\n",
              "  background-image: linear-gradient(var(--sklearn-color-text-on-default-background), var(--sklearn-color-text-on-default-background));\n",
              "  background-size: 2px 100%;\n",
              "  background-repeat: no-repeat;\n",
              "  background-position: center center;\n",
              "}\n",
              "\n",
              "/* Parallel-specific style estimator block */\n",
              "\n",
              "#sk-container-id-1 div.sk-parallel-item::after {\n",
              "  content: \"\";\n",
              "  width: 100%;\n",
              "  border-bottom: 2px solid var(--sklearn-color-text-on-default-background);\n",
              "  flex-grow: 1;\n",
              "}\n",
              "\n",
              "#sk-container-id-1 div.sk-parallel {\n",
              "  display: flex;\n",
              "  align-items: stretch;\n",
              "  justify-content: center;\n",
              "  background-color: var(--sklearn-color-background);\n",
              "  position: relative;\n",
              "}\n",
              "\n",
              "#sk-container-id-1 div.sk-parallel-item {\n",
              "  display: flex;\n",
              "  flex-direction: column;\n",
              "}\n",
              "\n",
              "#sk-container-id-1 div.sk-parallel-item:first-child::after {\n",
              "  align-self: flex-end;\n",
              "  width: 50%;\n",
              "}\n",
              "\n",
              "#sk-container-id-1 div.sk-parallel-item:last-child::after {\n",
              "  align-self: flex-start;\n",
              "  width: 50%;\n",
              "}\n",
              "\n",
              "#sk-container-id-1 div.sk-parallel-item:only-child::after {\n",
              "  width: 0;\n",
              "}\n",
              "\n",
              "/* Serial-specific style estimator block */\n",
              "\n",
              "#sk-container-id-1 div.sk-serial {\n",
              "  display: flex;\n",
              "  flex-direction: column;\n",
              "  align-items: center;\n",
              "  background-color: var(--sklearn-color-background);\n",
              "  padding-right: 1em;\n",
              "  padding-left: 1em;\n",
              "}\n",
              "\n",
              "\n",
              "/* Toggleable style: style used for estimator/Pipeline/ColumnTransformer box that is\n",
              "clickable and can be expanded/collapsed.\n",
              "- Pipeline and ColumnTransformer use this feature and define the default style\n",
              "- Estimators will overwrite some part of the style using the `sk-estimator` class\n",
              "*/\n",
              "\n",
              "/* Pipeline and ColumnTransformer style (default) */\n",
              "\n",
              "#sk-container-id-1 div.sk-toggleable {\n",
              "  /* Default theme specific background. It is overwritten whether we have a\n",
              "  specific estimator or a Pipeline/ColumnTransformer */\n",
              "  background-color: var(--sklearn-color-background);\n",
              "}\n",
              "\n",
              "/* Toggleable label */\n",
              "#sk-container-id-1 label.sk-toggleable__label {\n",
              "  cursor: pointer;\n",
              "  display: flex;\n",
              "  width: 100%;\n",
              "  margin-bottom: 0;\n",
              "  padding: 0.5em;\n",
              "  box-sizing: border-box;\n",
              "  text-align: center;\n",
              "  align-items: start;\n",
              "  justify-content: space-between;\n",
              "  gap: 0.5em;\n",
              "}\n",
              "\n",
              "#sk-container-id-1 label.sk-toggleable__label .caption {\n",
              "  font-size: 0.6rem;\n",
              "  font-weight: lighter;\n",
              "  color: var(--sklearn-color-text-muted);\n",
              "}\n",
              "\n",
              "#sk-container-id-1 label.sk-toggleable__label-arrow:before {\n",
              "  /* Arrow on the left of the label */\n",
              "  content: \"▸\";\n",
              "  float: left;\n",
              "  margin-right: 0.25em;\n",
              "  color: var(--sklearn-color-icon);\n",
              "}\n",
              "\n",
              "#sk-container-id-1 label.sk-toggleable__label-arrow:hover:before {\n",
              "  color: var(--sklearn-color-text);\n",
              "}\n",
              "\n",
              "/* Toggleable content - dropdown */\n",
              "\n",
              "#sk-container-id-1 div.sk-toggleable__content {\n",
              "  max-height: 0;\n",
              "  max-width: 0;\n",
              "  overflow: hidden;\n",
              "  text-align: left;\n",
              "  /* unfitted */\n",
              "  background-color: var(--sklearn-color-unfitted-level-0);\n",
              "}\n",
              "\n",
              "#sk-container-id-1 div.sk-toggleable__content.fitted {\n",
              "  /* fitted */\n",
              "  background-color: var(--sklearn-color-fitted-level-0);\n",
              "}\n",
              "\n",
              "#sk-container-id-1 div.sk-toggleable__content pre {\n",
              "  margin: 0.2em;\n",
              "  border-radius: 0.25em;\n",
              "  color: var(--sklearn-color-text);\n",
              "  /* unfitted */\n",
              "  background-color: var(--sklearn-color-unfitted-level-0);\n",
              "}\n",
              "\n",
              "#sk-container-id-1 div.sk-toggleable__content.fitted pre {\n",
              "  /* unfitted */\n",
              "  background-color: var(--sklearn-color-fitted-level-0);\n",
              "}\n",
              "\n",
              "#sk-container-id-1 input.sk-toggleable__control:checked~div.sk-toggleable__content {\n",
              "  /* Expand drop-down */\n",
              "  max-height: 200px;\n",
              "  max-width: 100%;\n",
              "  overflow: auto;\n",
              "}\n",
              "\n",
              "#sk-container-id-1 input.sk-toggleable__control:checked~label.sk-toggleable__label-arrow:before {\n",
              "  content: \"▾\";\n",
              "}\n",
              "\n",
              "/* Pipeline/ColumnTransformer-specific style */\n",
              "\n",
              "#sk-container-id-1 div.sk-label input.sk-toggleable__control:checked~label.sk-toggleable__label {\n",
              "  color: var(--sklearn-color-text);\n",
              "  background-color: var(--sklearn-color-unfitted-level-2);\n",
              "}\n",
              "\n",
              "#sk-container-id-1 div.sk-label.fitted input.sk-toggleable__control:checked~label.sk-toggleable__label {\n",
              "  background-color: var(--sklearn-color-fitted-level-2);\n",
              "}\n",
              "\n",
              "/* Estimator-specific style */\n",
              "\n",
              "/* Colorize estimator box */\n",
              "#sk-container-id-1 div.sk-estimator input.sk-toggleable__control:checked~label.sk-toggleable__label {\n",
              "  /* unfitted */\n",
              "  background-color: var(--sklearn-color-unfitted-level-2);\n",
              "}\n",
              "\n",
              "#sk-container-id-1 div.sk-estimator.fitted input.sk-toggleable__control:checked~label.sk-toggleable__label {\n",
              "  /* fitted */\n",
              "  background-color: var(--sklearn-color-fitted-level-2);\n",
              "}\n",
              "\n",
              "#sk-container-id-1 div.sk-label label.sk-toggleable__label,\n",
              "#sk-container-id-1 div.sk-label label {\n",
              "  /* The background is the default theme color */\n",
              "  color: var(--sklearn-color-text-on-default-background);\n",
              "}\n",
              "\n",
              "/* On hover, darken the color of the background */\n",
              "#sk-container-id-1 div.sk-label:hover label.sk-toggleable__label {\n",
              "  color: var(--sklearn-color-text);\n",
              "  background-color: var(--sklearn-color-unfitted-level-2);\n",
              "}\n",
              "\n",
              "/* Label box, darken color on hover, fitted */\n",
              "#sk-container-id-1 div.sk-label.fitted:hover label.sk-toggleable__label.fitted {\n",
              "  color: var(--sklearn-color-text);\n",
              "  background-color: var(--sklearn-color-fitted-level-2);\n",
              "}\n",
              "\n",
              "/* Estimator label */\n",
              "\n",
              "#sk-container-id-1 div.sk-label label {\n",
              "  font-family: monospace;\n",
              "  font-weight: bold;\n",
              "  display: inline-block;\n",
              "  line-height: 1.2em;\n",
              "}\n",
              "\n",
              "#sk-container-id-1 div.sk-label-container {\n",
              "  text-align: center;\n",
              "}\n",
              "\n",
              "/* Estimator-specific */\n",
              "#sk-container-id-1 div.sk-estimator {\n",
              "  font-family: monospace;\n",
              "  border: 1px dotted var(--sklearn-color-border-box);\n",
              "  border-radius: 0.25em;\n",
              "  box-sizing: border-box;\n",
              "  margin-bottom: 0.5em;\n",
              "  /* unfitted */\n",
              "  background-color: var(--sklearn-color-unfitted-level-0);\n",
              "}\n",
              "\n",
              "#sk-container-id-1 div.sk-estimator.fitted {\n",
              "  /* fitted */\n",
              "  background-color: var(--sklearn-color-fitted-level-0);\n",
              "}\n",
              "\n",
              "/* on hover */\n",
              "#sk-container-id-1 div.sk-estimator:hover {\n",
              "  /* unfitted */\n",
              "  background-color: var(--sklearn-color-unfitted-level-2);\n",
              "}\n",
              "\n",
              "#sk-container-id-1 div.sk-estimator.fitted:hover {\n",
              "  /* fitted */\n",
              "  background-color: var(--sklearn-color-fitted-level-2);\n",
              "}\n",
              "\n",
              "/* Specification for estimator info (e.g. \"i\" and \"?\") */\n",
              "\n",
              "/* Common style for \"i\" and \"?\" */\n",
              "\n",
              ".sk-estimator-doc-link,\n",
              "a:link.sk-estimator-doc-link,\n",
              "a:visited.sk-estimator-doc-link {\n",
              "  float: right;\n",
              "  font-size: smaller;\n",
              "  line-height: 1em;\n",
              "  font-family: monospace;\n",
              "  background-color: var(--sklearn-color-background);\n",
              "  border-radius: 1em;\n",
              "  height: 1em;\n",
              "  width: 1em;\n",
              "  text-decoration: none !important;\n",
              "  margin-left: 0.5em;\n",
              "  text-align: center;\n",
              "  /* unfitted */\n",
              "  border: var(--sklearn-color-unfitted-level-1) 1pt solid;\n",
              "  color: var(--sklearn-color-unfitted-level-1);\n",
              "}\n",
              "\n",
              ".sk-estimator-doc-link.fitted,\n",
              "a:link.sk-estimator-doc-link.fitted,\n",
              "a:visited.sk-estimator-doc-link.fitted {\n",
              "  /* fitted */\n",
              "  border: var(--sklearn-color-fitted-level-1) 1pt solid;\n",
              "  color: var(--sklearn-color-fitted-level-1);\n",
              "}\n",
              "\n",
              "/* On hover */\n",
              "div.sk-estimator:hover .sk-estimator-doc-link:hover,\n",
              ".sk-estimator-doc-link:hover,\n",
              "div.sk-label-container:hover .sk-estimator-doc-link:hover,\n",
              ".sk-estimator-doc-link:hover {\n",
              "  /* unfitted */\n",
              "  background-color: var(--sklearn-color-unfitted-level-3);\n",
              "  color: var(--sklearn-color-background);\n",
              "  text-decoration: none;\n",
              "}\n",
              "\n",
              "div.sk-estimator.fitted:hover .sk-estimator-doc-link.fitted:hover,\n",
              ".sk-estimator-doc-link.fitted:hover,\n",
              "div.sk-label-container:hover .sk-estimator-doc-link.fitted:hover,\n",
              ".sk-estimator-doc-link.fitted:hover {\n",
              "  /* fitted */\n",
              "  background-color: var(--sklearn-color-fitted-level-3);\n",
              "  color: var(--sklearn-color-background);\n",
              "  text-decoration: none;\n",
              "}\n",
              "\n",
              "/* Span, style for the box shown on hovering the info icon */\n",
              ".sk-estimator-doc-link span {\n",
              "  display: none;\n",
              "  z-index: 9999;\n",
              "  position: relative;\n",
              "  font-weight: normal;\n",
              "  right: .2ex;\n",
              "  padding: .5ex;\n",
              "  margin: .5ex;\n",
              "  width: min-content;\n",
              "  min-width: 20ex;\n",
              "  max-width: 50ex;\n",
              "  color: var(--sklearn-color-text);\n",
              "  box-shadow: 2pt 2pt 4pt #999;\n",
              "  /* unfitted */\n",
              "  background: var(--sklearn-color-unfitted-level-0);\n",
              "  border: .5pt solid var(--sklearn-color-unfitted-level-3);\n",
              "}\n",
              "\n",
              ".sk-estimator-doc-link.fitted span {\n",
              "  /* fitted */\n",
              "  background: var(--sklearn-color-fitted-level-0);\n",
              "  border: var(--sklearn-color-fitted-level-3);\n",
              "}\n",
              "\n",
              ".sk-estimator-doc-link:hover span {\n",
              "  display: block;\n",
              "}\n",
              "\n",
              "/* \"?\"-specific style due to the `<a>` HTML tag */\n",
              "\n",
              "#sk-container-id-1 a.estimator_doc_link {\n",
              "  float: right;\n",
              "  font-size: 1rem;\n",
              "  line-height: 1em;\n",
              "  font-family: monospace;\n",
              "  background-color: var(--sklearn-color-background);\n",
              "  border-radius: 1rem;\n",
              "  height: 1rem;\n",
              "  width: 1rem;\n",
              "  text-decoration: none;\n",
              "  /* unfitted */\n",
              "  color: var(--sklearn-color-unfitted-level-1);\n",
              "  border: var(--sklearn-color-unfitted-level-1) 1pt solid;\n",
              "}\n",
              "\n",
              "#sk-container-id-1 a.estimator_doc_link.fitted {\n",
              "  /* fitted */\n",
              "  border: var(--sklearn-color-fitted-level-1) 1pt solid;\n",
              "  color: var(--sklearn-color-fitted-level-1);\n",
              "}\n",
              "\n",
              "/* On hover */\n",
              "#sk-container-id-1 a.estimator_doc_link:hover {\n",
              "  /* unfitted */\n",
              "  background-color: var(--sklearn-color-unfitted-level-3);\n",
              "  color: var(--sklearn-color-background);\n",
              "  text-decoration: none;\n",
              "}\n",
              "\n",
              "#sk-container-id-1 a.estimator_doc_link.fitted:hover {\n",
              "  /* fitted */\n",
              "  background-color: var(--sklearn-color-fitted-level-3);\n",
              "}\n",
              "</style><div id=\"sk-container-id-1\" class=\"sk-top-container\"><div class=\"sk-text-repr-fallback\"><pre>LinearRegression()</pre><b>In a Jupyter environment, please rerun this cell to show the HTML representation or trust the notebook. <br />On GitHub, the HTML representation is unable to render, please try loading this page with nbviewer.org.</b></div><div class=\"sk-container\" hidden><div class=\"sk-item\"><div class=\"sk-estimator fitted sk-toggleable\"><input class=\"sk-toggleable__control sk-hidden--visually\" id=\"sk-estimator-id-1\" type=\"checkbox\" checked><label for=\"sk-estimator-id-1\" class=\"sk-toggleable__label fitted sk-toggleable__label-arrow\"><div><div>LinearRegression</div></div><div><a class=\"sk-estimator-doc-link fitted\" rel=\"noreferrer\" target=\"_blank\" href=\"https://scikit-learn.org/1.6/modules/generated/sklearn.linear_model.LinearRegression.html\">?<span>Documentation for LinearRegression</span></a><span class=\"sk-estimator-doc-link fitted\">i<span>Fitted</span></span></div></label><div class=\"sk-toggleable__content fitted\"><pre>LinearRegression()</pre></div> </div></div></div></div>"
            ],
            "text/plain": [
              "LinearRegression()"
            ]
          },
          "execution_count": 18,
          "metadata": {},
          "output_type": "execute_result"
        }
      ],
      "source": [
        "regression_model = LinearRegression()\n",
        "regression_model.fit(X_train, y_train)"
      ]
    },
    {
      "cell_type": "markdown",
      "metadata": {
        "id": "Oose9q354HCW"
      },
      "source": [
        "#### Question: How can we get the coef./ weights ?\n",
        "\n",
        "Ans: After training the model, we can access the coef. using `.coef_` property"
      ]
    },
    {
      "cell_type": "code",
      "execution_count": 19,
      "metadata": {
        "colab": {
          "base_uri": "https://localhost:8080/"
        },
        "id": "pPOu-d2X4c5Q",
        "outputId": "b32bf070-058c-44c0-a960-89d16a5e0734"
      },
      "outputs": [
        {
          "name": "stdout",
          "output_type": "stream",
          "text": [
            "The coefficient for cylinders is -0.3948079661648248\n",
            "The coefficient for displacement is 0.02894551076548742\n",
            "The coefficient for horsepower is -0.021752207723547176\n",
            "The coefficient for weight is -0.0073520320651473585\n",
            "The coefficient for acceleration is 0.06191936600761855\n",
            "The coefficient for model year is 0.8369338917645003\n",
            "The coefficient for origin_American is -3.001283000918513\n",
            "The coefficient for origin_asia is -0.6060179643247402\n"
          ]
        }
      ],
      "source": [
        "for idx, col_name in enumerate(X_train.columns):\n",
        "    print(\"The coefficient for {} is {}\".format(col_name, regression_model.coef_[0][idx]))"
      ]
    },
    {
      "cell_type": "code",
      "execution_count": 20,
      "metadata": {
        "colab": {
          "base_uri": "https://localhost:8080/"
        },
        "id": "ic8nWDA_4epE",
        "outputId": "785e5f0d-4cb9-4093-9d02-456087cc9811"
      },
      "outputs": [
        {
          "name": "stdout",
          "output_type": "stream",
          "text": [
            "The intercept for our model is -18.283451116372124\n"
          ]
        }
      ],
      "source": [
        "intercept = regression_model.intercept_[0]\n",
        "print(\"The intercept for our model is {}\".format(intercept))"
      ]
    },
    {
      "cell_type": "markdown",
      "metadata": {
        "id": "XTDj7WGt4mT4"
      },
      "source": [
        "#### Question: How can we get $R^2$ score ?\n",
        "\n",
        "Ans: Using `.score()`"
      ]
    },
    {
      "cell_type": "markdown",
      "metadata": {
        "id": "WmY-7IRg44J-"
      },
      "source": [
        "#### Training $R^2$ score"
      ]
    },
    {
      "cell_type": "code",
      "execution_count": 21,
      "metadata": {
        "colab": {
          "base_uri": "https://localhost:8080/"
        },
        "id": "TN5OwvVM4zJ0",
        "outputId": "2ff34eec-2f32-47f6-ab63-871249561e62"
      },
      "outputs": [
        {
          "data": {
            "text/plain": [
              "0.8141025501610559"
            ]
          },
          "execution_count": 21,
          "metadata": {},
          "output_type": "execute_result"
        }
      ],
      "source": [
        "regression_model.score(X_train, y_train)"
      ]
    },
    {
      "cell_type": "markdown",
      "metadata": {
        "id": "I-ofqNce484O"
      },
      "source": [
        "#### Test $R^2$ score"
      ]
    },
    {
      "cell_type": "code",
      "execution_count": 22,
      "metadata": {
        "id": "rytWM-6N41ZN"
      },
      "outputs": [
        {
          "data": {
            "text/plain": [
              "0.843313513280883"
            ]
          },
          "execution_count": 22,
          "metadata": {},
          "output_type": "execute_result"
        }
      ],
      "source": [
        "#out of sample score (R^2)\n",
        "\n",
        "regression_model.score(X_test, y_test)\n"
      ]
    },
    {
      "cell_type": "markdown",
      "metadata": {
        "id": "NRjoKHvL6AHm"
      },
      "source": [
        "## Impact of outliers\n",
        "\n",
        "### Question: Will outliers impact the model (regression line) or not ?"
      ]
    },
    {
      "cell_type": "markdown",
      "metadata": {
        "id": "vIOX9la2hGOA"
      },
      "source": [
        "When outliers are not present, you get a good line of best fit.\n",
        "\n",
        "- When there is an outlier present, the line of best fit or regression line will get pulled towards it.\n",
        "\n",
        "#### Why regression line is pulled towards outlier?\n",
        "- The equation is such that it'll try to pull whereever the outlier is sitting so as to reduce the distance.\n",
        "- The closer the regression line is to outlier, less the error.\n",
        "\n",
        "Make sure to remove the outliers before you start working on dataset."
      ]
    },
    {
      "cell_type": "markdown",
      "metadata": {
        "id": "b0D41rsv1iF7"
      },
      "source": [
        "<center><img src=\"https://drive.google.com/uc?id=1x_fXvkx1Ppla-CzQBAQniXtrAe6Z83mV\" width=\"700\" > </center>\n",
        "\n",
        "\n",
        "\n",
        "- Click on the link to try yourself: https://observablehq.com/@yizhe-ang/interactive-visualization-of-linear-regression\n"
      ]
    },
    {
      "cell_type": "markdown",
      "metadata": {
        "id": "ogkOag-v5auG"
      },
      "source": [
        "## Assumptions in Linear Regression"
      ]
    },
    {
      "cell_type": "markdown",
      "metadata": {
        "id": "IHccBIZF5dcx"
      },
      "source": [
        "### 1. Assumption of Linearity"
      ]
    },
    {
      "cell_type": "markdown",
      "metadata": {
        "id": "JmxrocbYI0I-"
      },
      "source": [
        "- Relation between the any independent and dependent variables must be linear.\n",
        "\n",
        "- if your relationships are not linear, we do some kind of fix to handle the non linear relationship using polynomial regression (will see later)"
      ]
    },
    {
      "cell_type": "markdown",
      "metadata": {
        "id": "2EY14X5V542Y"
      },
      "source": [
        "<center><img src=\"https://drive.google.com/uc?id=1ORTVQpFLQ_a10kxokjXxGixc_VC-irZ2\" width=\"800\" height=\"400\"> </center>\n"
      ]
    },
    {
      "cell_type": "markdown",
      "metadata": {
        "id": "PhZzXFktaNjU"
      },
      "source": [
        "### 2. Features are not multi-collinear\n"
      ]
    },
    {
      "cell_type": "markdown",
      "metadata": {
        "id": "Rmmb8E4eaVpc"
      },
      "source": [
        "#### What does multi-collinearity mean ?"
      ]
    },
    {
      "cell_type": "markdown",
      "metadata": {
        "id": "yRgkBqO6aYsr"
      },
      "source": [
        "Let's say you have 4 independent features $x_1, x_2, x_3, x_4$ and a dependent varaible $y$\n",
        "\n",
        "<center><img src=\"https://drive.google.com/uc?id=1cJsbX-FoTn3ZS45W6Y5sB_PegUL2oKwA\" width=\"600\"> </center>\n",
        "\n",
        "\n",
        "We want the relation between independent and dependent variable as : $y$ = $f(x)$\n",
        "\n",
        "<center><img src=\"https://drive.google.com/uc?id=1X_2tVGIiqOgKGC-rJyYyl3ScsFKopsd3\" width=\"600\"> </center>\n",
        "\n",
        "#### Question: But, should there be a dependency among the independent variables ?\n",
        "\n",
        "Ans: No"
      ]
    },
    {
      "cell_type": "markdown",
      "metadata": {
        "id": "A7H-AAF-bQUi"
      },
      "source": [
        "This could be a problem if there's a dependency between two or amoung the independent variables\n",
        "\n",
        "The dependency could look something like:"
      ]
    },
    {
      "cell_type": "markdown",
      "metadata": {
        "id": "36jvYgPqcTP_"
      },
      "source": [
        "\n",
        "<center><img src=\"https://drive.google.com/uc?id=1WPgirBYuV3__sZunT28yY10nEx17Ro5V\" width=\"600\"> </center>\n",
        "\n",
        "The above equation is basically saying:\n",
        "- the values of $x_2$ are dependent on $x_3$ and $x_4$.\n",
        "\n",
        "and this is called as **Multicollinearity**."
      ]
    },
    {
      "cell_type": "markdown",
      "metadata": {
        "id": "SNseLSavcvYW"
      },
      "source": [
        "#### How to fix the Multicollinearity"
      ]
    },
    {
      "cell_type": "markdown",
      "metadata": {
        "id": "Abj-765sdBdU"
      },
      "source": [
        "We fix the Multicollinearity using **VIF** (Variance Inflation Factor)"
      ]
    },
    {
      "cell_type": "markdown",
      "metadata": {
        "id": "KFluSgmSdeqG"
      },
      "source": [
        "It fixes the multicollinearity using a very smart way.\n",
        "\n",
        "Let's say we have 4 columns $x_1, x_2, x_3, x_4$\n",
        "\n",
        "- First, it'll assume $x_1$ is dependent columns and $x_2, x_3, x_4$ are indepedent columns\n",
        "- Now, it'll create/build a model on it and checks the $R^2$ value\n",
        "\n",
        "\n",
        "<center><img src=\"https://drive.google.com/uc?id=1YtMOzCkM1ar_niASvSf9u6jHXqxbGwpu\" width=\"600\"> </center>\n",
        "\n",
        "\n",
        "#### Question: If the $R^2$ value is high, does this mean $x_1$ have some dependency coming among these columns ?\n",
        "\n",
        "Ans: Yes\n",
        "\n"
      ]
    },
    {
      "cell_type": "markdown",
      "metadata": {
        "id": "2g0xYTskexiW"
      },
      "source": [
        "Next,\n",
        "\n",
        "We'll again build a model with $x_2$ as dependent variable and $x_1, x_3, x_4$ as independent variables\n",
        "\n",
        "- We'll check the $R^2$ value for it\n",
        "\n",
        "- And get to know whether the $x_2$ is dependent on these variable or not based on the value of $R^2$\n",
        "\n"
      ]
    },
    {
      "cell_type": "markdown",
      "metadata": {
        "id": "OBkf8nnZfUAz"
      },
      "source": [
        "This way,\n",
        "- it internally keeps on computing $R^2$ for all the columns across and looks for columns where $R^2$ is higher\n",
        "- If the $R^2$ is higher, then those are columns which are creating high dependency"
      ]
    },
    {
      "cell_type": "markdown",
      "metadata": {
        "id": "oeHDIbCCgPaF"
      },
      "source": [
        "#### Formula for VIF\n"
      ]
    },
    {
      "cell_type": "markdown",
      "metadata": {
        "id": "08eH8drrgU4X"
      },
      "source": [
        "<center><img src=\"https://drive.google.com/uc?id=1QPkLmPj9I3X9KR4eujMh2gEUfhVJfy3A\" width=\"600\"> </center>\n",
        "\n"
      ]
    },
    {
      "cell_type": "markdown",
      "metadata": {
        "id": "TqQKS9vSg-Bw"
      },
      "source": [
        "#### Rule of thumb for VIF"
      ]
    },
    {
      "cell_type": "markdown",
      "metadata": {
        "id": "HvU5Sfv_g_6Q"
      },
      "source": [
        "- It can be infered that if ${VIF}⇑$, that feature is more collinear\n",
        "- Rule of thumb:\n",
        "  - if $VIF_j > 10$ : Very High multiCollinearity\n",
        "  - if 5 <= $VIF_j$ < 10 : High multiCollinearity\n",
        "  - $VIF_j$ < 5 : we can use that feature"
      ]
    },
    {
      "cell_type": "markdown",
      "metadata": {
        "id": "W-brQFNkcehk"
      },
      "source": [
        "### 3. Errors are normally distributed"
      ]
    },
    {
      "cell_type": "markdown",
      "metadata": {
        "id": "cfl-Oa6OJGsf"
      },
      "source": [
        "If you get all your errors and plot them up\n",
        "- you'll notice that it'll create a bell shaped curve\n",
        "- i.e. errors are normally distributed\n",
        "\n",
        "The third assumption of Linear Regression is that the residuals should follow a normal distribution.\n",
        "\n",
        "<center><img src=\"https://drive.google.com/uc?id=1qoxixvI4nXmBB0JM7S0BfUDbyPXcO8Hs\" width=\"800\" height=\"400\"> </center>"
      ]
    },
    {
      "cell_type": "markdown",
      "metadata": {
        "id": "LoMgCNyDrAQW"
      },
      "source": [
        "- If you plot the error distribution and it is not normal, then it means there are outliers present in data."
      ]
    },
    {
      "cell_type": "markdown",
      "metadata": {
        "id": "nnEGrMEXrWvk"
      },
      "source": [
        "### 4. Error terms must be independent\n",
        "\n",
        "- If we plot a scatter plot between the target variable and the error term, then\n",
        "- there shouldn't exist a pattern in the error\n",
        "\n",
        "Usually occurs in time series data.\n",
        "\n",
        "- We'll talk about it in detail once we learn time series\n",
        "\n",
        "<center><img src=\"https://drive.google.com/uc?id=1YvXocfNA98zLjvnNf4zHF_5BXecBrbVE\" width=\"800\" height=\"400\"> </center>"
      ]
    },
    {
      "cell_type": "markdown",
      "metadata": {
        "id": "Q6PR25-ysBUv"
      },
      "source": [
        "### 5. Homoscedasticity: Error has constant variance.\n",
        "\n",
        "Homoscedasticity means to be of “The same Variance”, the error terms will be the same and of very little variance.\n",
        "\n",
        "<center><img src=\"https://drive.google.com/uc?id=1PN6TBxgqWDT0l-16RVXcFI2cwAsSVhdT\" width=\"800\" height=\"400\"> </center>\n",
        "\n",
        "-  A scatterplot of residuals versus predicted values is good way to check for homoscedasticity.\n",
        "- You should get a graph like the left graph above.\n",
        "\n",
        "\n",
        "\n",
        "\n"
      ]
    },
    {
      "cell_type": "markdown",
      "metadata": {
        "id": "8rZ2j4L0dqzu"
      },
      "source": [
        "## Polynomial Regression"
      ]
    },
    {
      "cell_type": "markdown",
      "metadata": {
        "id": "B3fPY_dle5vj"
      },
      "source": [
        "Say you are predicting sales of a product based on month data and the data looks like this:"
      ]
    },
    {
      "cell_type": "markdown",
      "metadata": {
        "id": "6LwQZHy5i9PL"
      },
      "source": [
        "<center><img src=\"https://drive.google.com/uc?id=1eKPDUxN15qZ-NshuNdr4zHZ6TCBWoFsu\" width=\"600\"> </center>\n"
      ]
    },
    {
      "cell_type": "markdown",
      "metadata": {
        "id": "VsOxqpdvjdlv"
      },
      "source": [
        "#### Question: Will a regression line will be properly fit to the data ?"
      ]
    },
    {
      "cell_type": "markdown",
      "metadata": {
        "id": "bRP1IU6BjoPt"
      },
      "source": [
        "<center><img src=\"https://drive.google.com/uc?id=1XuIHbkv55nBU4p5a-WbFd_APSROEX0Uy\" width=\"600\"> </center>\n",
        "\n",
        "Ans: No. It'll not work"
      ]
    },
    {
      "cell_type": "markdown",
      "metadata": {
        "id": "VQRNs_g_j2my"
      },
      "source": [
        "The equation for given curve will look somewhat like : $30 \\sqrt{m} . cos(0.5m) + 5.83m + 78$"
      ]
    },
    {
      "cell_type": "markdown",
      "metadata": {
        "id": "ve43Jpxskfx3"
      },
      "source": [
        "Let's take another example:\n",
        "\n",
        "Say, you are given data of US Energy consumption vs year.\n",
        "\n",
        "<center><img src=\"https://drive.google.com/uc?id=1yurzdXGI-mek7Fqt4buOyRqlkLnFveO9\" width=\"600\"> </center>\n",
        "\n",
        "\n",
        "#### Question: Can you fit a regression line to it ?\n",
        "\n",
        "No.\n",
        "\n",
        "The equation of energy consumption may look like\n",
        "\n",
        "$c (consumption)$ = $A + By + Dy^2 + Ey^3$\n",
        "\n",
        "- where y = year\n",
        "- A, B, D and E are constants/coef."
      ]
    },
    {
      "cell_type": "markdown",
      "metadata": {
        "id": "yFcm79G_lpO7"
      },
      "source": [
        "#### Conclusion:\n",
        "\n",
        "- As we can see, sometimes there can be variation in data\n",
        "- Data may not look linear always\n",
        "\n",
        "#### Recall the first assumption of Linear Regression?\n",
        "\n",
        "There should be Linear relation between dependent and independent feature.\n",
        "\n",
        "- But that assumption is being voilated in this case.\n",
        "\n",
        "#### What should be do ?\n",
        "\n",
        "We take the help of polynomial regression in these cases."
      ]
    },
    {
      "cell_type": "markdown",
      "metadata": {
        "id": "mvOUrNzMzwvl"
      },
      "source": [
        "#### Question: Suppose your data is following the following pattern. What plot is this ?\n",
        "\n",
        "<center><img src=\"https://drive.google.com/uc?id=12l_uuStc1helP7l2cd8ZQN1d_kWgpd8_\" width=\"600\"> </center>\n",
        "\n",
        "\n",
        "\n",
        "Ans: $e^x$"
      ]
    },
    {
      "cell_type": "markdown",
      "metadata": {
        "id": "hxBJeK8IztH1"
      },
      "source": [
        "OR the data may look like this:\n",
        "\n",
        "<center><img src=\"https://drive.google.com/uc?id=1vgR0WkgGsbJXgcipwT1wPOKnwzMCygI_\" width=\"600\"> </center>\n",
        "\n",
        "\n"
      ]
    },
    {
      "cell_type": "markdown",
      "metadata": {
        "id": "p1bRf8RY0nkV"
      },
      "source": [
        "Let's take another example:\n",
        "\n",
        "Say, you are given the following data (height, weight, gender, age) and you've to predict the Blood Pressure (BP)"
      ]
    },
    {
      "cell_type": "markdown",
      "metadata": {
        "id": "4uG7cjTF087e"
      },
      "source": [
        "<center><img src=\"https://drive.google.com/uc?id=1YsvlPWXbpOBjS6C0m0qH7ZnDhXHNbEYU\" width=\"600\"> </center>\n",
        "\n"
      ]
    },
    {
      "cell_type": "markdown",
      "metadata": {
        "id": "FtwPBlB41TS6"
      },
      "source": [
        "Now, there's another aspect which may be important for calculating BP: BMI (Body Mass index)\n",
        "- BMI will be a non-linear feature\n",
        "\n",
        "<center><img src=\"https://drive.google.com/uc?id=1YwBCcZ5X47jBPHjMPhc4R_ShE2zaTW-G\" width=\"600\"> </center>"
      ]
    },
    {
      "cell_type": "markdown",
      "metadata": {
        "id": "uCXAQUHL2btc"
      },
      "source": [
        "Let's say we have multiple data points with raw attributes($x_1, x_2, x_3, x_4 ... x_d$) and response variable ($y$)\n",
        "\n",
        "\n",
        "<center><img src=\"https://drive.google.com/uc?id=1VN28ybevG3wHYRYqJibvd4ahjqkVNwvq\" width=\"600\"> </center>\n",
        "\n",
        "Now, we create transformed features out of it (denoted using $ϕ_i(x)$)\n",
        "\n",
        "<center><img src=\"https://drive.google.com/uc?id=1FY0XQfhfVRKA4RpTE4v7X6vZeXPhJ8ci\" width=\"600\"> </center>\n",
        "\n"
      ]
    },
    {
      "cell_type": "markdown",
      "metadata": {
        "id": "RkC16Ocy384C"
      },
      "source": [
        "#### Question: What is the regression equation ?\n",
        "\n",
        "Ans:\n",
        "\n",
        "<center><img src=\"https://drive.google.com/uc?id=180PQ2lFDkc05BCpnW-i2lcJM3fusq1B6\" width=\"600\"> </center>\n"
      ]
    },
    {
      "cell_type": "markdown",
      "metadata": {
        "id": "H5pbB0Yd5ccS"
      },
      "source": [
        "But since we are using transformed features, the equation would look like:"
      ]
    },
    {
      "cell_type": "markdown",
      "metadata": {
        "id": "WsU5BG475jj0"
      },
      "source": [
        "<center><img src=\"https://drive.google.com/uc?id=103miYB1odJSNp47Rp5tm11EAkwY_Srou\" width=\"600\"> </center>\n",
        "\n"
      ]
    },
    {
      "cell_type": "markdown",
      "metadata": {
        "id": "RnSt6o5j6AMv"
      },
      "source": [
        "### Code walkthrough\n",
        "\n",
        "#### US electricity consumption based on year"
      ]
    },
    {
      "cell_type": "markdown",
      "metadata": {
        "id": "xDDcyuf_8I0_"
      },
      "source": [
        "#### Importing libraries"
      ]
    },
    {
      "cell_type": "code",
      "execution_count": 23,
      "metadata": {
        "id": "FDC8gt7y7umk"
      },
      "outputs": [],
      "source": [
        "\n",
        "import pandas as pd\n",
        "import matplotlib.pyplot as plt\n",
        "from sklearn.preprocessing import PolynomialFeatures\n",
        "from sklearn.linear_model import LinearRegression\n",
        "from sklearn.pipeline import Pipeline\n",
        "from sklearn import metrics"
      ]
    },
    {
      "cell_type": "markdown",
      "metadata": {
        "id": "dOdm8e2I8K86"
      },
      "source": [
        "#### Loading data"
      ]
    },
    {
      "cell_type": "code",
      "execution_count": 24,
      "metadata": {
        "colab": {
          "base_uri": "https://localhost:8080/"
        },
        "id": "K4RkGA4B7vNA",
        "outputId": "6f51eabb-ba3c-4197-97a3-717e794fd61c"
      },
      "outputs": [
        {
          "name": "stdout",
          "output_type": "stream",
          "text": [
            "Downloading...\n",
            "From: https://drive.google.com/uc?id=12wjTgfPAXwB7VNMvxm0LRBG8pjxG_ZqQ\n",
            "To: /Users/manishdiddi/Documents/Scaler-AI-ML/Machine Learning/Linear Regression/total-electricity-consumption-us.csv\n",
            "100%|██████████████████████████████████████████| 680/680 [00:00<00:00, 2.01MB/s]\n"
          ]
        }
      ],
      "source": [
        "!gdown 12wjTgfPAXwB7VNMvxm0LRBG8pjxG_ZqQ"
      ]
    },
    {
      "cell_type": "code",
      "execution_count": 25,
      "metadata": {
        "colab": {
          "base_uri": "https://localhost:8080/",
          "height": 206
        },
        "id": "3sBvfkED78en",
        "outputId": "7ecd5f8a-b00a-404f-90fd-67147e8e86f4"
      },
      "outputs": [
        {
          "data": {
            "text/html": [
              "<div>\n",
              "<style scoped>\n",
              "    .dataframe tbody tr th:only-of-type {\n",
              "        vertical-align: middle;\n",
              "    }\n",
              "\n",
              "    .dataframe tbody tr th {\n",
              "        vertical-align: top;\n",
              "    }\n",
              "\n",
              "    .dataframe thead th {\n",
              "        text-align: right;\n",
              "    }\n",
              "</style>\n",
              "<table border=\"1\" class=\"dataframe\">\n",
              "  <thead>\n",
              "    <tr style=\"text-align: right;\">\n",
              "      <th></th>\n",
              "      <th>Year</th>\n",
              "      <th>Consumption</th>\n",
              "    </tr>\n",
              "  </thead>\n",
              "  <tbody>\n",
              "    <tr>\n",
              "      <th>0</th>\n",
              "      <td>1920</td>\n",
              "      <td>57125</td>\n",
              "    </tr>\n",
              "    <tr>\n",
              "      <th>1</th>\n",
              "      <td>1921</td>\n",
              "      <td>53656</td>\n",
              "    </tr>\n",
              "    <tr>\n",
              "      <th>2</th>\n",
              "      <td>1922</td>\n",
              "      <td>61816</td>\n",
              "    </tr>\n",
              "    <tr>\n",
              "      <th>3</th>\n",
              "      <td>1923</td>\n",
              "      <td>72113</td>\n",
              "    </tr>\n",
              "    <tr>\n",
              "      <th>4</th>\n",
              "      <td>1924</td>\n",
              "      <td>76651</td>\n",
              "    </tr>\n",
              "  </tbody>\n",
              "</table>\n",
              "</div>"
            ],
            "text/plain": [
              "   Year  Consumption\n",
              "0  1920        57125\n",
              "1  1921        53656\n",
              "2  1922        61816\n",
              "3  1923        72113\n",
              "4  1924        76651"
            ]
          },
          "execution_count": 25,
          "metadata": {},
          "output_type": "execute_result"
        }
      ],
      "source": [
        "#fetching data\n",
        "elec_cons = pd.read_csv(\"total-electricity-consumption-us.csv\",  sep = ',', header= 0 )\n",
        "elec_cons.head()"
      ]
    },
    {
      "cell_type": "markdown",
      "metadata": {
        "id": "MVvY_wk48AUk"
      },
      "source": [
        "The dataset contains two variables - year and electricity consumption."
      ]
    },
    {
      "cell_type": "markdown",
      "metadata": {
        "id": "I7M9CREF8Ww7"
      },
      "source": [
        "#### Total number of observations"
      ]
    },
    {
      "cell_type": "code",
      "execution_count": 26,
      "metadata": {
        "colab": {
          "base_uri": "https://localhost:8080/"
        },
        "id": "HK2Rhexj8FVZ",
        "outputId": "0d1a8202-aedd-49b5-a587-539506bd4d9e"
      },
      "outputs": [
        {
          "data": {
            "text/plain": [
              "(51, 2)"
            ]
          },
          "execution_count": 26,
          "metadata": {},
          "output_type": "execute_result"
        }
      ],
      "source": [
        "# number of observations: 51\n",
        "elec_cons.shape"
      ]
    },
    {
      "cell_type": "markdown",
      "metadata": {
        "id": "lWqhYivs8cqY"
      },
      "source": [
        "#### Are there any missing values?"
      ]
    },
    {
      "cell_type": "code",
      "execution_count": 27,
      "metadata": {
        "colab": {
          "base_uri": "https://localhost:8080/"
        },
        "id": "uuCXYsQV8ZI2",
        "outputId": "9c7d21e7-60e7-4a50-b6b9-c2e56ecb1723"
      },
      "outputs": [
        {
          "data": {
            "text/plain": [
              "False"
            ]
          },
          "execution_count": 27,
          "metadata": {},
          "output_type": "execute_result"
        }
      ],
      "source": [
        "# checking NA\n",
        "# there are no missing values in the dataset\n",
        "elec_cons.isnull().values.any()"
      ]
    },
    {
      "cell_type": "code",
      "execution_count": 28,
      "metadata": {
        "colab": {
          "base_uri": "https://localhost:8080/",
          "height": 463
        },
        "id": "79qPqnRUuuzq",
        "outputId": "2e303e35-7e86-4199-949c-4deeb18dc09a"
      },
      "outputs": [
        {
          "data": {
            "text/plain": [
              "<matplotlib.collections.PathCollection at 0x1770781a0>"
            ]
          },
          "execution_count": 28,
          "metadata": {},
          "output_type": "execute_result"
        },
        {
          "data": {
            "image/png": "[encoded data removed]",
            "text/plain": [
              "<Figure size 640x480 with 1 Axes>"
            ]
          },
          "metadata": {},
          "output_type": "display_data"
        }
      ],
      "source": [
        "plt.scatter(x=elec_cons['Year'], y= elec_cons['Consumption'])"
      ]
    },
    {
      "cell_type": "markdown",
      "metadata": {
        "id": "FUUYTiOq8fiA"
      },
      "source": [
        "#### Splitting in train test\n",
        "\n",
        "Since the number of datapoints are less, we are splitting it based on index for this exercise\n",
        "\n"
      ]
    },
    {
      "cell_type": "code",
      "execution_count": 29,
      "metadata": {
        "id": "pOMiMRx68wDx"
      },
      "outputs": [],
      "source": [
        "size = len(elec_cons.index)\n",
        "index = range(0, size, 5)\n",
        "\n",
        "train = elec_cons[~elec_cons.index.isin(index)]\n",
        "test = elec_cons[elec_cons.index.isin(index)]\n"
      ]
    },
    {
      "cell_type": "code",
      "execution_count": 30,
      "metadata": {
        "colab": {
          "base_uri": "https://localhost:8080/"
        },
        "id": "LQ-1krqi8wR1",
        "outputId": "7c75b0f4-5f4b-4e5d-fe0f-792759f67d9c"
      },
      "outputs": [
        {
          "name": "stdout",
          "output_type": "stream",
          "text": [
            "40\n",
            "11\n"
          ]
        }
      ],
      "source": [
        "print(len(train))\n",
        "print(len(test))"
      ]
    },
    {
      "cell_type": "markdown",
      "metadata": {
        "id": "r9fvYsIn84Mk"
      },
      "source": [
        "#### Reshaping"
      ]
    },
    {
      "cell_type": "code",
      "execution_count": 31,
      "metadata": {
        "id": "qf6gUAXC80Cd"
      },
      "outputs": [],
      "source": [
        "# converting X to a two dimensional array, as required by the learning algorithm\n",
        "X_train = train.Year.values.reshape(-1,1) #Making X two dimensional\n",
        "y_train = train.Consumption\n",
        "\n",
        "X_test = test.Year.values.reshape(-1,1) #Making X two dimensional\n",
        "y_test = test.Consumption"
      ]
    },
    {
      "cell_type": "markdown",
      "metadata": {
        "id": "AscTREp69fJX"
      },
      "source": [
        "#### Fitting model"
      ]
    },
    {
      "cell_type": "code",
      "execution_count": 32,
      "metadata": {
        "colab": {
          "base_uri": "https://localhost:8080/",
          "height": 1000
        },
        "id": "ZsjlIfJz9E2G",
        "outputId": "472f4c63-024c-465e-be0e-f863164d294e"
      },
      "outputs": [
        {
          "data": {
            "image/png": "[encoded data removed]",
            "text/plain": [
              "<Figure size 640x480 with 1 Axes>"
            ]
          },
          "metadata": {},
          "output_type": "display_data"
        },
        {
          "data": {
            "image/png": "[encoded data removed]",
            "text/plain": [
              "<Figure size 640x480 with 1 Axes>"
            ]
          },
          "metadata": {},
          "output_type": "display_data"
        },
        {
          "data": {
            "image/png": "[encoded data removed]",
            "text/plain": [
              "<Figure size 640x480 with 1 Axes>"
            ]
          },
          "metadata": {},
          "output_type": "display_data"
        }
      ],
      "source": [
        "# Doing a polynomial regression: Comparing linear, quadratic and cubic fits\n",
        "# Pipeline helps you associate two models or objects to be built sequentially with each other,\n",
        "# in this case, the objects are PolynomialFeatures() and LinearRegression()\n",
        "\n",
        "r2_train = []\n",
        "r2_test = []\n",
        "degrees = [1, 2, 3]\n",
        "\n",
        "for degree in degrees:\n",
        "    pipeline = Pipeline([('poly_features', PolynomialFeatures(degree=degree)),\n",
        "                     ('model', LinearRegression())])\n",
        "    pipeline.fit(X_train, y_train)\n",
        "    y_pred = pipeline.predict(X_test)\n",
        "    r2_test.append(metrics.r2_score(y_test, y_pred))\n",
        "\n",
        "    # training performance\n",
        "    y_pred_train = pipeline.predict(X_train)\n",
        "    r2_train.append(metrics.r2_score(y_train, y_pred_train))\n",
        "\n",
        "# plot predictions and actual values against year\n",
        "    fig, ax = plt.subplots()\n",
        "    ax.set_xlabel(\"Year\")\n",
        "    ax.set_ylabel(\"Power consumption\")\n",
        "    ax.set_title(\"Degree= \" + str(degree))\n",
        "\n",
        "    # train data in blue\n",
        "    ax.scatter(X_train, y_train)\n",
        "    ax.plot(X_train, y_pred_train, color=\"blue\")\n",
        "\n",
        "    # test data\n",
        "    ax.scatter(X_train, y_train)\n",
        "    ax.plot(X_test, y_pred, color=\"blue\")\n",
        "\n",
        "    plt.show()"
      ]
    },
    {
      "cell_type": "code",
      "execution_count": 33,
      "metadata": {
        "colab": {
          "base_uri": "https://localhost:8080/"
        },
        "id": "YtPCzDMh9gij",
        "outputId": "9ca9c6b9-c2ad-4004-c3d3-54d7f1063705"
      },
      "outputs": [
        {
          "name": "stdout",
          "output_type": "stream",
          "text": [
            "For degree 1, train R2 is 0.8423747402176137 and test R2 is 0.816517046382681\n",
            "For degree 2, train R2 is 0.9908896744553607 and test R2 is 0.9876080502718445\n",
            "For degree 3, train R2 is 0.9979789883875345 and test R2 is 0.9984900811720976\n"
          ]
        }
      ],
      "source": [
        "# respective test r-squared scores of predictions\n",
        "for i in degrees:\n",
        "    print(f'For degree {i}, train R2 is {r2_train[i-1]} and test R2 is {r2_test[i-1]}')"
      ]
    },
    {
      "cell_type": "markdown",
      "metadata": {
        "id": "CBguNiGB7S_a"
      },
      "source": [
        "Note:\n",
        "- Always check your $R^2$ on test data.\n",
        "\n",
        "It may be possible that model is performing good on train data but not on test day (also called overfitting)\n",
        "\n",
        "So, you should always **Generalize**\n",
        "\n",
        "- whatever you train a model, make sure you are testing it on unseen data.\n",
        "- and model performance on train and test should be similar\n",
        "- i.e. model is generalizing well on train as well as test data.\n"
      ]
    },
    {
      "cell_type": "markdown",
      "metadata": {
        "id": "-VrmjTiT7nCa"
      },
      "source": [
        "## Occam's Razor"
      ]
    },
    {
      "cell_type": "markdown",
      "metadata": {
        "id": "DZ31077J8-0X"
      },
      "source": [
        "Say, you've two models.\n",
        "\n",
        "**First model:** $y = ax_1 + c$\n",
        "\n",
        "**Second model:** $y = ax_1^3 + bx_1^2 + cx_1 + d$\n",
        "\n",
        "**Performance of first model**: 74%\n",
        "\n",
        "**Performance of second model**: 78%\n",
        "\n",
        "<center><img src=\"https://drive.google.com/uc?id=1RRrX-K7PZ5-lFw9evlc1V5npq3VjwYJQ\" width=\"600\"> </center>\n",
        "\n",
        "\n",
        "#### Question: Which model will you pick?\n",
        "\n",
        "\n",
        "Occam's razor says that \"pick the simplest model\"\n",
        "\n",
        "So, we'll pick the **first model**.\n",
        "\n",
        "- Even if the other model (second one ) is having slight improvement in terms of performance,\n",
        "    - we would like to avoid putting complex model into production.\n",
        "    - as they add less business value\n",
        "\n",
        "Generally, the idea is to keep things as simple as one can.\n",
        "\n"
      ]
    },
    {
      "cell_type": "markdown",
      "metadata": {
        "id": "50uzzQVf90J1"
      },
      "source": [
        "#### Question: How do we decide at what degree should we stop to avoid overfitting?\n",
        "\n",
        "Ans:\n",
        "\n",
        "For the train data,\n",
        "- as you include more degrees to your features, you'll calculate $R^2$ for it\n",
        "\n",
        "Similarly, you'll calculate $R^2$ for Test data.\n",
        "\n",
        "\n",
        "Suppose, you are increasing polynomials one by one and\n",
        "- there's an increase in train performance\n",
        "\n",
        "However, test performance didn't increase for second polynomial degree.\n",
        "\n",
        "It is giving us an hint that the model is starting to overfit.\n",
        "\n",
        "So, we keep a watch on test data\n",
        "- it helps us understanding whether it is leading to overfitting.\n",
        "\n",
        "<center><img src=\"https://drive.google.com/uc?id=1n9C2EgOY1tBFuvrKccuMeXA8XMYKcW-r\" width=\"600\"> </center>\n"
      ]
    },
    {
      "cell_type": "markdown",
      "metadata": {
        "id": "snBaqK5uFTwz"
      },
      "source": [
        "Now, let's talk about overfitting and underfitting in detail"
      ]
    },
    {
      "cell_type": "markdown",
      "metadata": {
        "id": "bjYL-ZcwHnP_"
      },
      "source": [
        "## Bias Variance Tradeoff"
      ]
    },
    {
      "cell_type": "markdown",
      "metadata": {
        "id": "lNumabCuHpgr"
      },
      "source": [
        "Suppose you've data which looks like following:\n",
        "\n",
        "Here,\n",
        "- <font color = 'green'> Green curve</font> is overfitting as it is exactly matching the pattern of data\n",
        "- <font color ='blue'>Blue line</font> is underfit as it's not even trying to get near the pattern of data. Hence, the errors will be high.\n",
        "\n",
        "<center><img src=\"https://drive.google.com/uc?id=13H-0iQZRGew1uAuP2cq2MCiMMzNrJFfk\" width=\"600\"> </center>\n"
      ]
    },
    {
      "cell_type": "markdown",
      "metadata": {
        "id": "F5KueAzxQJRW"
      },
      "source": [
        "### Overfitting Scenario\n",
        "\n",
        "Let's try to understand underfit overfit from a simple example:\n",
        "\n",
        "Think of a student who has to appear for an exam.\n",
        "- For preparation, s/he mugged up all the questions from text book.\n",
        "\n",
        "In ML context, his $R^2$ over train data will be high (assume student to be model)\n",
        "\n",
        "**But, what'll be his/her performance on the exam ?**\n",
        "\n",
        "**How will s/he do in the exam if exam doesn't consist of same question as textbook but a variety of those question?**\n",
        "\n",
        "- Hence, performance or $R^2$ on test data will be low.\n",
        "\n",
        "<center><img src=\"https://drive.google.com/uc?id=1tCy10X_OofLJAixzxPglEs78RKbzVIIs\" width=\"600\"> </center>\n",
        "\n",
        "\n",
        "\n"
      ]
    },
    {
      "cell_type": "code",
      "execution_count": null,
      "metadata": {},
      "outputs": [],
      "source": []
    },
    {
      "cell_type": "markdown",
      "metadata": {
        "id": "RlmVJ0XmT02c"
      },
      "source": [
        "### Underfitting Scenario\n",
        "\n",
        "Similarly, **in case of undefitting**,\n",
        "\n",
        "- Suppose, this time student just only went through topics name and nothing else.\n",
        "- Obviously, preparation in this case is weak\n",
        "- i.e. performance on train data ($R^2$) is low\n",
        "\n",
        "and henceforth, performance on test data will be low as well.\n",
        "\n",
        "<center><img src=\"https://drive.google.com/uc?id=18k08jdVhO1sW7wxlb7bqLk63_uKw4FKp\" width=\"600\"> </center>\n"
      ]
    },
    {
      "cell_type": "markdown",
      "metadata": {
        "id": "sKRheeDfVI2m"
      },
      "source": [
        "$ $\n",
        "To summarize:\n",
        "- Whenever we have an underfitting scenario,\n",
        "    - both train and test $R^2$ are low\n",
        "\n",
        "- In overfitting scenario,\n",
        "    - train $R^2$ is high\n",
        "    - However, test $R^2$ is low"
      ]
    },
    {
      "cell_type": "markdown",
      "metadata": {
        "id": "_8IKLdj7V1NW"
      },
      "source": [
        "Now, we have to find the middle ground.\n",
        "\n",
        "### What will be perfect model ?\n",
        "\n",
        "Perfect model will lie somewhere between these 2 scenarios of overfitting and underfitting\n",
        "\n",
        "- There will be error but these will be reasonable for both train and test\n",
        "- There'll a good balance across both train and test."
      ]
    },
    {
      "cell_type": "markdown",
      "metadata": {
        "id": "70_bNSSbWZA_"
      },
      "source": [
        "### How do we do trade off between underfitting overfitting, mathematically?"
      ]
    },
    {
      "cell_type": "markdown",
      "metadata": {
        "id": "cf9vXQ1uYH1T"
      },
      "source": [
        "Consider the model function  \n",
        "\n",
        "where $y_i = w_0 + w_1x_{i_1}^1 + w_2x_{i_1}^2 + w_3x_{i_1}^3 + w_4x_{i_1}^4$\n",
        "\n",
        "- $f_1$ or $x_{i_1}$ is original feature\n",
        "- Rest of features are transformed features (power of $f_1$)\n",
        "\n"
      ]
    },
    {
      "cell_type": "markdown",
      "metadata": {
        "id": "9G0bhB2QXSph"
      },
      "source": [
        "<center><img src=\"https://drive.google.com/uc?id=1tGCNR6xz7OWUFWbwYMxsDqjLyQgu4Tum\" width=\"600\"> </center>\n"
      ]
    },
    {
      "cell_type": "markdown",
      "metadata": {
        "id": "FvmjR8MNX9m5"
      },
      "source": [
        "We have 3 cases\n",
        "- Case 1 (Model M1): $w_1, w_2, w_3, w_4 \\neq 0 $\n",
        "- Case 2 (Model M2): $w_1 , w_2 \\neq 0$ and $w_3 = w_4 = 0$\n",
        "- Case 3 (Model M3): $w_2 = w_3 = w_4 = 0$ and $w_1 \\neq 0$\n",
        "\n",
        "\n",
        "#### Question: Which of these is more likely to be overfit model?\n",
        "Model M1.\n",
        "\n",
        "Here, Critical concept is **weights**\n",
        "\n",
        "- If weights are non zero ($w_1, w_2, w_3, w_4 \\neq 0 $), it means we are giving some importance to $f_1, f_1^2, f_1^3 and  f_1^4$.\n",
        "\n",
        "- Chances of having overfit model is more\n",
        "\n",
        "#### Question: Similarly, which of the the above model is underfitting ?\n",
        "Ans: Model M3\n",
        "\n",
        "\n",
        "**If weights on higher order polynomial $\\neq 0$, more chances of overfit**\n",
        "\n"
      ]
    },
    {
      "cell_type": "markdown",
      "metadata": {
        "id": "dP8dYKlHYKVM"
      },
      "source": [
        "<center><img src=\"https://drive.google.com/uc?id=1wObfpjDAxXg_dGSlfGlLZuwY9OP3eidV\" width=\"600\"> </center>\n"
      ]
    },
    {
      "cell_type": "markdown",
      "metadata": {
        "id": "16DQ30ZGYnNt"
      },
      "source": [
        "### Relating with Bias Variance"
      ]
    },
    {
      "cell_type": "markdown",
      "metadata": {
        "id": "FjrjsBpeY5kF"
      },
      "source": [
        "  <center><img src=\"https://drive.google.com/uc?id=13noWSwF-46etriCuszaofzTKLeLg-k8j\" width=\"600\"> </center>"
      ]
    },
    {
      "cell_type": "markdown",
      "metadata": {
        "id": "9fAga8xwZAIL"
      },
      "source": [
        "Let's try to understand with target shooting example:\n",
        "\n",
        "**High bias is equivalent to aiming in the wrong place.**\n",
        "\n",
        "**High variance is equivalent to having an unsteady aim.**\n",
        "\n",
        "This can lead to the following scenarios:\n",
        "\n",
        "- Low bias, low variance: Aiming at the target and hitting it with good precision.\n",
        "- Low bias, high variance: Aiming at the target, but not hitting it consistently.\n",
        "- High bias, low variance: Aiming off the target, but being consistent.\n",
        "- High bias, high variance: Aiming off the target and being inconsistent."
      ]
    },
    {
      "cell_type": "markdown",
      "metadata": {
        "id": "CJivwiGmZMSG"
      },
      "source": [
        "### Plotting $R^2$ for train test data"
      ]
    },
    {
      "cell_type": "markdown",
      "metadata": {
        "id": "qBv7AkGOcBW8"
      },
      "source": [
        "When we plot the $R^2$ for train and test vs the polynomial degreee used in model\n",
        "\n",
        "- For train data, as the polynomial degree increases, the $R^2$ value increases and then stagnates.\n",
        "\n",
        "- For test data, the value of $R^2$ will increase at first and then it'll fall off as polynomial degree is increase.\n",
        "\n",
        "\n",
        "#### Question: Which side of the plot represents Overfit?\n",
        "\n",
        "Ans: Right side as there's a high variane in train and test performance.\n",
        "- Train $R^2$ is high and test $R^2$ is low.\n",
        "\n",
        "Similarly, the leftmost portion of plot represents underfitting\n",
        "- Both train and test $R^2$ are low."
      ]
    },
    {
      "cell_type": "markdown",
      "metadata": {
        "id": "pbNQSYDDbkQd"
      },
      "source": [
        "  <center><img src=\"https://drive.google.com/uc?id=1XisXNFkhHhSQXkFy63tp8bov3mnBfCTJ\" width=\"600\"> </center>\n"
      ]
    },
    {
      "cell_type": "markdown",
      "metadata": {
        "id": "JObXcBLvb7fk"
      },
      "source": [
        "### Example of various model scenarios"
      ]
    },
    {
      "cell_type": "markdown",
      "metadata": {
        "id": "YgQkuVKdglHE"
      },
      "source": [
        "  <center><img src=\"https://drive.google.com/uc?id=1YSgIrQxerHmgz6voT9DMqFNyaMlUbTgl\" width=\"900\"> </center>\n",
        "\n",
        "\n"
      ]
    },
    {
      "cell_type": "markdown",
      "metadata": {
        "id": "GXf55v_updJF"
      },
      "source": [
        "\n",
        "- Underfitting means that a model is too general, implying  high bias - low variance  (for example: fitting a line on quadratic data)\n",
        "\n",
        "- while overfitting means that a model is too specific, implying  low bias - high variance. (for example: fitting higher order polynomial on quadratic data)\n",
        "\n",
        "When training a model, it is important to balance these two. Since you can’t realistically avoid bias and variance altogether, this is called the bias-variance tradeoff."
      ]
    },
    {
      "cell_type": "markdown",
      "metadata": {
        "id": "WXdneXC8dN9K"
      },
      "source": [
        "## Regularization"
      ]
    },
    {
      "cell_type": "markdown",
      "metadata": {
        "id": "Abgj-5Y2faoo"
      },
      "source": [
        "#### Question: What is our loss in linear regression ?\n",
        "\n",
        "Ans: Squared loss i.e. $(y - ŷ)^2$\n",
        "\n",
        "Here, $ŷ$ can be represented using $w_1x_1 + w_2x_2 + w_0$\n",
        "\n",
        "And the loss becomes: $(y_i - (w_1x_1 + w_2x_2 + w_0))^2$"
      ]
    },
    {
      "cell_type": "markdown",
      "metadata": {
        "id": "dDSQIjIYfjdU"
      },
      "source": [
        "<center><img src=\"https://drive.google.com/uc?id=1lgYNJ97tx2J7zI_gAHhjvGDaC3E1o8YI\" width=\"600\"> </center>\n",
        "\n",
        "\n",
        "\n"
      ]
    },
    {
      "cell_type": "markdown",
      "metadata": {
        "id": "p1kyrHwhgwoB"
      },
      "source": [
        "Now, we want to minimize this loss as much as possible\n",
        "- which means loss value should be small.\n",
        "\n",
        "<br>\n",
        "\n",
        "#### Question: When will the loss value be small ?\n",
        "\n",
        "Loss will be small when the difference in actual $y_i$ and predicted $ŷ_i$ is minimal.\n",
        "\n",
        "So, in order to make the difference minimal, the model tries to make $ŷ_i$ values larger.\n",
        "\n",
        "<br>\n",
        "\n",
        "#### Question: How can we increase the value of $ŷ$ ?\n",
        "\n",
        "By making coef/ weights ($w_0, w_1, w_2$) larger.\n",
        "\n",
        "<br>\n",
        "\n",
        "In the process of minimizing error, the coef./ weights becomes very large value.\n",
        "- and it becomes a challenge to handle.\n",
        "\n",
        "\n",
        "#### How to handle it ?\n",
        "\n",
        "The issue is large values of $w_i$. So, what if we add $w_i^2$ in our loss.\n",
        "\n"
      ]
    },
    {
      "cell_type": "markdown",
      "metadata": {
        "id": "IyHocFzxh-NZ"
      },
      "source": [
        "<center><img src=\"https://drive.google.com/uc?id=1iqPUPSw34QkjSuEfsRvCgDuCTNmiYvf9\" width=\"700\"> </center>\n"
      ]
    },
    {
      "cell_type": "markdown",
      "metadata": {
        "id": "ClstVAwSjSPH"
      },
      "source": [
        "- When we try to increase values of coef./weights ($w_0, w_1, w_2$) in order to minimize the loss,\n",
        "    - the second term ($w_i^2$) value increases\n",
        "    - which increases the overall value of loss.\n",
        "\n",
        "Basically, it is a kind of penalty."
      ]
    },
    {
      "cell_type": "markdown",
      "metadata": {
        "id": "8Lb5eC77jpCM"
      },
      "source": [
        "### Example"
      ]
    },
    {
      "cell_type": "markdown",
      "metadata": {
        "id": "QvXGkju4cN31"
      },
      "source": [
        "Imagine you have a problem of **roof leakage** in your house.\n",
        "\n",
        "#### How would you solve it ?\n",
        "\n",
        "We have 3 remedies to stop the leakage\n",
        "1. Bandage (Leakage -  1000 mL)\n",
        "2. Shingles (Leakage - 10 mL)\n",
        "3. Titanium (Leakage - 0 mL)\n",
        "\n",
        "Say, every solution has a cost attached to it\n",
        "1. Bandage (Cost - Rs 1)\n",
        "2. Shingles (Cost - Rs 1000)\n",
        "3. Titanium  (Cost - Rs 100,000)\n",
        "\n",
        "\n"
      ]
    },
    {
      "cell_type": "markdown",
      "metadata": {
        "id": "bNPof34icMx2"
      },
      "source": [
        " <center><img src=\"https://drive.google.com/uc?id=1qHrbCMMLQy0Kh_N9tVp4hkLvhqfYPuPc\" width=\"900\" height=\"500\"> </center>\n",
        "\n"
      ]
    },
    {
      "cell_type": "markdown",
      "metadata": {
        "id": "RGoIaeMpegfd"
      },
      "source": [
        "Observe the **tug of war** between Leakage and Budget.\n",
        "\n",
        "- If you reduce the leakage with **titanium tiles, cost shoots up**\n",
        "- If you use **bandage for leakage, cost is in control but leakage doesn't reduce**"
      ]
    },
    {
      "cell_type": "markdown",
      "metadata": {
        "id": "-sETQx9TJY0w"
      },
      "source": [
        "  <center><img src=\"https://drive.google.com/uc?id=1XetX3-m2IGTpCy0oTa9GGsysnYnSZeHf\" width=\"900\" height=\"500\"> </center>\n",
        "\n"
      ]
    },
    {
      "cell_type": "markdown",
      "metadata": {
        "id": "IH-uq3eOfEpq"
      },
      "source": [
        "#### What do we have to keep in mind for making decision?\n",
        "- We want to minimize the leakage\n",
        "- We want to minimize the budget as well.\n",
        "\n",
        "i.e. $minimize ( Leakage + Budget)$\n",
        "\n",
        "Here, consider\n",
        "- Leakage as your **Loss(MSE)** and\n",
        "- Budget as a new term called **Regularization**.\n",
        "\n",
        "We want to $minimize \\space (LOSS + REG.)$"
      ]
    },
    {
      "cell_type": "code",
      "execution_count": null,
      "metadata": {
        "id": "d8QmR6LeJzMh"
      },
      "outputs": [],
      "source": []
    },
    {
      "cell_type": "markdown",
      "metadata": {
        "id": "M0fYzECIKI-R"
      },
      "source": [
        "  <center><img src=\"https://drive.google.com/uc?id=10Y-rZJqfoJ7L4ewWqCvEQ5ryVrCAZ7iF\" width=\"900\" height=\"500\"> </center>\n",
        "\n",
        "\n"
      ]
    },
    {
      "cell_type": "markdown",
      "metadata": {
        "id": "-JW1YzwlkSN1"
      },
      "source": [
        "There can be case that when penalization becomes too high\n",
        "- then all the coef. will be a small value.\n",
        "- model will perform bad.\n",
        "\n",
        "So, we need a control over regularization"
      ]
    },
    {
      "cell_type": "markdown",
      "metadata": {
        "id": "5vNff1_ILUFB"
      },
      "source": [
        "#### But, how do we control the regularization ?"
      ]
    },
    {
      "cell_type": "markdown",
      "metadata": {
        "id": "xF8wJbUoOTlQ"
      },
      "source": [
        "\n",
        "<img src=\"https://drive.google.com/uc?id=1xtgAh9yKfJmk-xvct8M0MF858USQwbAa\">\n"
      ]
    },
    {
      "cell_type": "markdown",
      "metadata": {
        "id": "-d0HoR5BLaFg"
      },
      "source": [
        "- We introduce a term  𝜆  ( ≥0  ) which is multiplied with the regularization term ( $∑𝑤^2_j$ ).\n",
        "- The optimization equation becomes\n",
        "\n",
        "    **`minimize (Loss term + λ*Regularization term)`**\n",
        "\n",
        "\n",
        "The regularization term is still going to add to the loss but we will control how much it'll add to it.\n",
        "\n",
        "\n",
        "**Penalization should happen. But in a controlled way.**"
      ]
    },
    {
      "cell_type": "markdown",
      "metadata": {
        "id": "7CieyjpE7x__"
      },
      "source": [
        "#### How does value of lambda impact the model?\n"
      ]
    },
    {
      "cell_type": "markdown",
      "metadata": {
        "id": "kbkRVU6x-MRA"
      },
      "source": [
        "\n",
        "\n",
        "\n",
        "<img src=\"https://drive.google.com/uc?id=19GASMOjQAxCsZ4IlkF1RSUmZaVH4dWct\">\n",
        "\n"
      ]
    },
    {
      "cell_type": "markdown",
      "metadata": {
        "id": "74YWAJsOnsTb"
      },
      "source": [
        "\n",
        "  \n",
        "    Optimization eq. = Loss term + λ Regularization term\n",
        "\n",
        "\n",
        "\n",
        "\n",
        "- Case1: $λ = 0$\n",
        "  - There will be no regularization term.\n",
        "  - Model will overfit.\n",
        "\n",
        "- Case2: $λ = ∞$ (large +ve value)\n",
        "  - As value of lambda is large, the magnitude of squared loss term is negligible.\n",
        "  - Weightage of regularization term will increase\n",
        "  - It'll try to push all the $w_j$'s to zero.\n",
        "  - Model will underfit.\n",
        "\n",
        "\n",
        "Lambda, here is called **hyperparamter** of the model.\n",
        "\n",
        "Hyperparamters helps us do overfit- underfit tradeoff. By changing the lambda, we can control the regularization and hence overfit and underfit of the model.\n",
        "\n",
        "As lambda increase, we tend from overfitting to underfitting.\n",
        "\n",
        "**Note:**\n",
        "When we define a model,\n",
        "- the weights of the model becomes our parameters\n",
        "- And the rest of the variables such as Regularization parameter becomes our Hyperparameter\n"
      ]
    },
    {
      "cell_type": "markdown",
      "metadata": {
        "id": "g2yUGHBjm35i"
      },
      "source": [
        "### Types of Regularization"
      ]
    },
    {
      "cell_type": "markdown",
      "metadata": {
        "id": "yXy6IWVvnsKR"
      },
      "source": [
        "#### L2 Regularization\n",
        "\n",
        "Here, $w_j^2$ term is called as **L2 regularization**.\n",
        "- We also call it as **Ridge Regression**\n"
      ]
    },
    {
      "cell_type": "markdown",
      "metadata": {
        "id": "z-XIypQVm8-t"
      },
      "source": [
        "<center><img src=\"https://drive.google.com/uc?id=1It6kU7XDjfnDn3840eM24G90lMZVZBGi\" width=\"600\"> </center>\n",
        "\n",
        "\n",
        "\n",
        "\n"
      ]
    },
    {
      "cell_type": "markdown",
      "metadata": {
        "id": "bZFeAvUsnkox"
      },
      "source": [
        "#### L1 Regularization\n",
        "\n",
        "Instead of taking square of $w_i$, if we use the modulus i.e $|w_i|$\n",
        "- then it is called as L1 regularization\n",
        "- or **Lasso Regression**\n",
        "\n",
        "Key highlight of Lasso Regression is:\n",
        "- it is very good in giving sparse data\n",
        "- i.e. whatever columns are irrelevent, it'll make its weights/ coef as 0."
      ]
    },
    {
      "cell_type": "markdown",
      "metadata": {
        "id": "YzPCL8GIoElR"
      },
      "source": [
        "\n",
        "\n",
        "\n",
        "<img src=\"https://drive.google.com/uc?id=17f_EQN_kyUasbon15ZqvFT2Yc__Wpn5c\">\n"
      ]
    },
    {
      "cell_type": "markdown",
      "metadata": {
        "id": "U0_aak5BoLnm"
      },
      "source": [
        "#### Elastic net regularization\n",
        "\n",
        "- Combination of L1 and L2 regularization"
      ]
    },
    {
      "cell_type": "markdown",
      "metadata": {
        "id": "MqhGYQzlo-jN"
      },
      "source": [
        "\n",
        "\n",
        "<center>\n",
        "<img src=\"https://drive.google.com/uc?id=19HL7EqvppRKE6h_KzJV9Le2AgVzrE67e\" width =600> </center>\n",
        "\n",
        "\n"
      ]
    }
  ],
  "metadata": {
    "colab": {
      "provenance": []
    },
    "kernelspec": {
      "display_name": "Python 3",
      "name": "python3"
    },
    "language_info": {
      "codemirror_mode": {
        "name": "ipython",
        "version": 3
      },
      "file_extension": ".py",
      "mimetype": "text/x-python",
      "name": "python",
      "nbconvert_exporter": "python",
      "pygments_lexer": "ipython3",
      "version": "3.12.2"
    }
  },
  "nbformat": 4,
  "nbformat_minor": 0
}
